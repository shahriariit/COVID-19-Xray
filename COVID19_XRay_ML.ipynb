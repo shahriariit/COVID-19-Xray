{
  "nbformat": 4,
  "nbformat_minor": 0,
  "metadata": {
    "colab": {
      "name": "COVID19_XRay_ML.ipynb",
      "provenance": [],
      "collapsed_sections": [],
      "include_colab_link": true
    },
    "kernelspec": {
      "name": "python3",
      "display_name": "Python 3"
    }
  },
  "cells": [
    {
      "cell_type": "markdown",
      "metadata": {
        "id": "view-in-github",
        "colab_type": "text"
      },
      "source": [
        "<a href=\"https://colab.research.google.com/github/shahriariit/COVID-19-Xray/blob/master/COVID19_XRay_ML.ipynb\" target=\"_parent\"><img src=\"https://colab.research.google.com/assets/colab-badge.svg\" alt=\"Open In Colab\"/></a>"
      ]
    },
    {
      "cell_type": "code",
      "metadata": {
        "id": "EuD8XO7lOV0s",
        "colab_type": "code",
        "outputId": "7e58427f-b2f8-480b-a7aa-e0642846939f",
        "colab": {
          "base_uri": "https://localhost:8080/",
          "height": 34
        }
      },
      "source": [
        "import pandas as pd \n",
        "df1 = pd.read_csv('/content/drive/My Drive/Research Work/XRay/train2.csv')\n",
        "\n",
        "print(df1.shape)\n",
        "\n"
      ],
      "execution_count": 10,
      "outputs": [
        {
          "output_type": "stream",
          "text": [
            "(855, 10001)\n"
          ],
          "name": "stdout"
        }
      ]
    },
    {
      "cell_type": "code",
      "metadata": {
        "id": "H6LM6pgBxniq",
        "colab_type": "code",
        "colab": {
          "base_uri": "https://localhost:8080/",
          "height": 121
        },
        "outputId": "ad3752b2-fda4-4439-fc48-82dcbd6590b0"
      },
      "source": [
        "from google.colab import drive\n",
        "drive.mount('/content/drive')"
      ],
      "execution_count": 1,
      "outputs": [
        {
          "output_type": "stream",
          "text": [
            "Go to this URL in a browser: https://accounts.google.com/o/oauth2/auth?client_id=947318989803-6bn6qk8qdgf4n4g3pfee6491hc0brc4i.apps.googleusercontent.com&redirect_uri=urn%3aietf%3awg%3aoauth%3a2.0%3aoob&response_type=code&scope=email%20https%3a%2f%2fwww.googleapis.com%2fauth%2fdocs.test%20https%3a%2f%2fwww.googleapis.com%2fauth%2fdrive%20https%3a%2f%2fwww.googleapis.com%2fauth%2fdrive.photos.readonly%20https%3a%2f%2fwww.googleapis.com%2fauth%2fpeopleapi.readonly\n",
            "\n",
            "Enter your authorization code:\n",
            "··········\n",
            "Mounted at /content/drive\n"
          ],
          "name": "stdout"
        }
      ]
    },
    {
      "cell_type": "code",
      "metadata": {
        "id": "_YsHrZ_nZwYB",
        "colab_type": "code",
        "outputId": "119cbf4d-029b-4e03-fa5d-80af0a91221a",
        "colab": {
          "base_uri": "https://localhost:8080/",
          "height": 50
        }
      },
      "source": [
        " \n",
        "x_train= df1.iloc[:, 0:10000].values\n",
        "y_train = df1.iloc[:, 10000]\n",
        "print(len(y_train))\n",
        "print(len(x_train))\n",
        " \n"
      ],
      "execution_count": 11,
      "outputs": [
        {
          "output_type": "stream",
          "text": [
            "855\n",
            "855\n"
          ],
          "name": "stdout"
        }
      ]
    },
    {
      "cell_type": "code",
      "metadata": {
        "id": "MZ3GFGjDZwa0",
        "colab_type": "code",
        "colab": {}
      },
      "source": [
        ""
      ],
      "execution_count": 0,
      "outputs": []
    },
    {
      "cell_type": "code",
      "metadata": {
        "id": "CyzJHHtmZwcs",
        "colab_type": "code",
        "colab": {}
      },
      "source": [
        ""
      ],
      "execution_count": 0,
      "outputs": []
    },
    {
      "cell_type": "code",
      "metadata": {
        "id": "TL0LWNwmZwfX",
        "colab_type": "code",
        "outputId": "ae91c10f-ec31-4919-eb1f-3a38cafa1e1b",
        "colab": {
          "base_uri": "https://localhost:8080/",
          "height": 34
        }
      },
      "source": [
        ""
      ],
      "execution_count": 0,
      "outputs": [
        {
          "output_type": "execute_result",
          "data": {
            "text/plain": [
              "0"
            ]
          },
          "metadata": {
            "tags": []
          },
          "execution_count": 6
        }
      ]
    },
    {
      "cell_type": "code",
      "metadata": {
        "id": "S1itQvyDZwh-",
        "colab_type": "code",
        "colab": {}
      },
      "source": [
        ""
      ],
      "execution_count": 0,
      "outputs": []
    },
    {
      "cell_type": "code",
      "metadata": {
        "id": "TQiAm6TvZwkX",
        "colab_type": "code",
        "colab": {}
      },
      "source": [
        ""
      ],
      "execution_count": 0,
      "outputs": []
    },
    {
      "cell_type": "code",
      "metadata": {
        "id": "Bcg4iEaWZwmR",
        "colab_type": "code",
        "colab": {}
      },
      "source": [
        ""
      ],
      "execution_count": 0,
      "outputs": []
    },
    {
      "cell_type": "code",
      "metadata": {
        "id": "J_2Z62NYZwon",
        "colab_type": "code",
        "colab": {}
      },
      "source": [
        ""
      ],
      "execution_count": 0,
      "outputs": []
    },
    {
      "cell_type": "code",
      "metadata": {
        "id": "nbWGcMhfZwrK",
        "colab_type": "code",
        "colab": {}
      },
      "source": [
        ""
      ],
      "execution_count": 0,
      "outputs": []
    },
    {
      "cell_type": "code",
      "metadata": {
        "id": "FXzI2ZTuZws5",
        "colab_type": "code",
        "colab": {}
      },
      "source": [
        ""
      ],
      "execution_count": 0,
      "outputs": []
    },
    {
      "cell_type": "code",
      "metadata": {
        "id": "XqnlfViLZwu0",
        "colab_type": "code",
        "colab": {}
      },
      "source": [
        ""
      ],
      "execution_count": 0,
      "outputs": []
    },
    {
      "cell_type": "code",
      "metadata": {
        "id": "DiFKOBFYZwxD",
        "colab_type": "code",
        "colab": {}
      },
      "source": [
        ""
      ],
      "execution_count": 0,
      "outputs": []
    },
    {
      "cell_type": "code",
      "metadata": {
        "id": "YLV1_5O6Zwy4",
        "colab_type": "code",
        "colab": {}
      },
      "source": [
        "\n"
      ],
      "execution_count": 0,
      "outputs": []
    },
    {
      "cell_type": "code",
      "metadata": {
        "id": "K5LOiEBTZw1R",
        "colab_type": "code",
        "colab": {}
      },
      "source": [
        "\n"
      ],
      "execution_count": 0,
      "outputs": []
    },
    {
      "cell_type": "code",
      "metadata": {
        "id": "qKroCM2LZw2z",
        "colab_type": "code",
        "colab": {}
      },
      "source": [
        "\n"
      ],
      "execution_count": 0,
      "outputs": []
    },
    {
      "cell_type": "code",
      "metadata": {
        "id": "FoeDtE0KZw45",
        "colab_type": "code",
        "colab": {}
      },
      "source": [
        "\n"
      ],
      "execution_count": 0,
      "outputs": []
    },
    {
      "cell_type": "code",
      "metadata": {
        "id": "QAdp8a9JZw7i",
        "colab_type": "code",
        "colab": {}
      },
      "source": [
        "\n",
        "\n"
      ],
      "execution_count": 0,
      "outputs": []
    },
    {
      "cell_type": "code",
      "metadata": {
        "id": "gNxQLz9MZw-b",
        "colab_type": "code",
        "colab": {}
      },
      "source": [
        "\n"
      ],
      "execution_count": 0,
      "outputs": []
    },
    {
      "cell_type": "code",
      "metadata": {
        "id": "MPkyDNzUa0sZ",
        "colab_type": "code",
        "colab": {}
      },
      "source": [
        "\n"
      ],
      "execution_count": 0,
      "outputs": []
    },
    {
      "cell_type": "code",
      "metadata": {
        "id": "U9l5eIB_a0us",
        "colab_type": "code",
        "colab": {}
      },
      "source": [
        ""
      ],
      "execution_count": 0,
      "outputs": []
    },
    {
      "cell_type": "code",
      "metadata": {
        "id": "T3HOJSJQa0wm",
        "colab_type": "code",
        "colab": {}
      },
      "source": [
        ""
      ],
      "execution_count": 0,
      "outputs": []
    },
    {
      "cell_type": "code",
      "metadata": {
        "id": "u1tng_8ia0yp",
        "colab_type": "code",
        "colab": {}
      },
      "source": [
        "# Normalizing \n",
        "x_train = x_train/255.0"
      ],
      "execution_count": 0,
      "outputs": []
    },
    {
      "cell_type": "code",
      "metadata": {
        "id": "MnwCbkgpa003",
        "colab_type": "code",
        "outputId": "a66a5fc6-759a-4e8a-974a-84bfbb026edf",
        "colab": {
          "base_uri": "https://localhost:8080/",
          "height": 138
        }
      },
      "source": [
        "from sklearn.metrics import accuracy_score \n",
        "from sklearn.metrics import f1_score \n",
        "from sklearn.neighbors import KNeighborsClassifier\n",
        "from sklearn.naive_bayes import GaussianNB  \n",
        "from sklearn.svm import SVC \n",
        "from sklearn.linear_model import LogisticRegression \n",
        "from sklearn.neural_network import MLPClassifier\n",
        "from xgboost import XGBClassifier\n",
        "from sklearn.ensemble import RandomForestClassifier \n",
        "from sklearn.ensemble import GradientBoostingClassifier\n",
        "from sklearn.metrics import precision_score\n",
        "from sklearn.metrics import recall_score\n",
        "from imblearn.metrics import geometric_mean_score \n",
        "from imblearn.metrics import sensitivity_score \n",
        "from imblearn.metrics import specificity_score \n",
        "from sklearn.preprocessing import label_binarize \n",
        "from sklearn.metrics import roc_auc_score \n",
        "from sklearn.model_selection import cross_val_predict \n",
        "from sklearn.tree import DecisionTreeClassifier\n",
        "from sklearn.neighbors import KNeighborsClassifier\n",
        "from sklearn.naive_bayes import GaussianNB\n",
        "from sklearn.naive_bayes import BernoulliNB\n",
        "from sklearn.model_selection import train_test_split\n"
      ],
      "execution_count": 7,
      "outputs": [
        {
          "output_type": "stream",
          "text": [
            "/usr/local/lib/python3.6/dist-packages/sklearn/externals/six.py:31: FutureWarning: The module is deprecated in version 0.21 and will be removed in version 0.23 since we've dropped support for Python 2.7. Please rely on the official version of six (https://pypi.org/project/six/).\n",
            "  \"(https://pypi.org/project/six/).\", FutureWarning)\n",
            "/usr/local/lib/python3.6/dist-packages/sklearn/utils/deprecation.py:144: FutureWarning: The sklearn.neighbors.base module is  deprecated in version 0.22 and will be removed in version 0.24. The corresponding classes / functions should instead be imported from sklearn.neighbors. Anything that cannot be imported from sklearn.neighbors is now part of the private API.\n",
            "  warnings.warn(message, FutureWarning)\n",
            "/usr/local/lib/python3.6/dist-packages/sklearn/utils/deprecation.py:144: FutureWarning: The sklearn.metrics.classification module is  deprecated in version 0.22 and will be removed in version 0.24. The corresponding classes / functions should instead be imported from sklearn.metrics. Anything that cannot be imported from sklearn.metrics is now part of the private API.\n",
            "  warnings.warn(message, FutureWarning)\n"
          ],
          "name": "stderr"
        }
      ]
    },
    {
      "cell_type": "code",
      "metadata": {
        "id": "39fsjYpba028",
        "colab_type": "code",
        "outputId": "10059bd0-f5c1-418f-fa72-93911789fef8",
        "colab": {
          "base_uri": "https://localhost:8080/",
          "height": 185
        }
      },
      "source": [
        "#####  SVM  ##############\n",
        "from sklearn import svm,metrics\n",
        "\n",
        "classifier = svm.SVC(kernel='linear',gamma=0.001)\n",
        "y_pred = cross_val_predict(estimator = classifier, X = x_train, y = y_train, cv = 10) \n",
        "\n",
        "print('Accuracy :       ', accuracy_score(y_train, y_pred)) \n",
        "print('ROC :            ', roc_auc_score(label_binarize(y_train, classes=[0,1,2]), \n",
        "                                         label_binarize(y_pred, classes=[0,1,2]), average = 'weighted')) \n",
        "\n",
        "print('Precision :      ', precision_score(y_train, y_pred, average='weighted')) \n",
        "print('Recall :         ', recall_score(y_train, y_pred, average='weighted')) \n",
        "print('F-Measure :      ', f1_score(y_train, y_pred, average = 'weighted')) \n",
        "print('Geometric Mean : ', geometric_mean_score(y_train, y_pred, average = 'weighted')) \n",
        "print('Sensitivity :    ', sensitivity_score(y_train, y_pred, average = 'weighted')) \n",
        "print('Specificity :    ', specificity_score(y_train, y_pred, average = 'weighted')) \n",
        "print('Type I Error :   ', (1-geometric_mean_score(y_train, y_pred, average = 'weighted'))) \n",
        "print('Type II Error :  ', (1-specificity_score(y_train, y_pred, average = 'weighted')))  \n"
      ],
      "execution_count": 13,
      "outputs": [
        {
          "output_type": "stream",
          "text": [
            "Accuracy :        0.9228070175438596\n",
            "ROC :             0.9421052631578948\n",
            "Precision :       0.923624000186796\n",
            "Recall :          0.9228070175438596\n",
            "F-Measure :       0.9230706561630797\n",
            "Geometric Mean :  0.9419075881348586\n",
            "Sensitivity :     0.9228070175438596\n",
            "Specificity :     0.9614035087719298\n",
            "Type I Error :    0.05809241186514136\n",
            "Type II Error :   0.038596491228070184\n"
          ],
          "name": "stdout"
        }
      ]
    },
    {
      "cell_type": "code",
      "metadata": {
        "id": "CrLVvChNa05D",
        "colab_type": "code",
        "outputId": "8d9dd441-4b4c-47aa-fe4c-5bbd92f8088d",
        "colab": {
          "base_uri": "https://localhost:8080/",
          "height": 185
        }
      },
      "source": [
        "#Gaussian NB\n",
        "nb = GaussianNB()\n",
        "y_pred = cross_val_predict(estimator = nb, X = x_train, y = y_train, cv = 10)\n",
        "\n",
        "\n",
        "print('Accuracy :       ', accuracy_score(y_train, y_pred)) \n",
        "print('ROC :            ', roc_auc_score(label_binarize(y_train, classes=[0,1,2]), \n",
        "                                         label_binarize(y_pred, classes=[0,1,2]), average = 'weighted'))\n",
        "\n",
        "print('Precision :      ', precision_score(y_train, y_pred, average='weighted')) \n",
        "print('Recall :         ', recall_score(y_train, y_pred, average='weighted')) \n",
        "print('F-Measure :      ', f1_score(y_train, y_pred, average = 'weighted'))\n",
        "print('Geometric Mean : ', geometric_mean_score(y_train, y_pred, average = 'weighted'))\n",
        "print('Sensitivity :    ', sensitivity_score(y_train, y_pred, average = 'weighted'))\n",
        "print('Specificity :    ', specificity_score(y_train, y_pred, average = 'weighted'))\n",
        "print('Type I Error :   ', (1-geometric_mean_score(y_train, y_pred, average = 'weighted')))\n",
        "print('Type II Error :  ', (1-specificity_score(y_train, y_pred, average = 'weighted'))) "
      ],
      "execution_count": 0,
      "outputs": [
        {
          "output_type": "stream",
          "text": [
            "Accuracy :        0.8187134502923976\n",
            "ROC :             0.8640350877192983\n",
            "Precision :       0.8164918440494477\n",
            "Recall :          0.8187134502923976\n",
            "F-Measure :       0.8155078448086217\n",
            "Geometric Mean :  0.8628456304525393\n",
            "Sensitivity :     0.8187134502923976\n",
            "Specificity :     0.9093567251461988\n",
            "Type I Error :    0.13715436954746074\n",
            "Type II Error :   0.09064327485380119\n"
          ],
          "name": "stdout"
        }
      ]
    },
    {
      "cell_type": "code",
      "metadata": {
        "id": "CdFEuMMOa066",
        "colab_type": "code",
        "outputId": "8b366985-6216-4be3-f9d0-72cf0de313ab",
        "colab": {
          "base_uri": "https://localhost:8080/",
          "height": 185
        }
      },
      "source": [
        "#Bernoulli NB\n",
        " \n",
        "bnb = BernoulliNB(binarize=0.0)\n",
        "\n",
        "y_pred = cross_val_predict(estimator = bnb, X = x_train, y = y_train, cv = 10)\n",
        "\n",
        "print('Accuracy :       ', accuracy_score(y_train, y_pred)) \n",
        "print('ROC :            ', roc_auc_score(label_binarize(y_train, classes=[0,1,2]), \n",
        "                                         label_binarize(y_pred, classes=[0,1,2]), average = 'weighted'))\n",
        "\n",
        "print('Precision :      ', precision_score(y_train, y_pred, average='weighted')) \n",
        "print('Recall :         ', recall_score(y_train, y_pred, average='weighted')) \n",
        "print('F-Measure :      ', f1_score(y_train, y_pred, average = 'weighted'))\n",
        "print('Geometric Mean : ', geometric_mean_score(y_train, y_pred, average = 'weighted'))\n",
        "print('Sensitivity :    ', sensitivity_score(y_train, y_pred, average = 'weighted'))\n",
        "print('Specificity :    ', specificity_score(y_train, y_pred, average = 'weighted'))\n",
        "print('Type I Error :   ', (1-geometric_mean_score(y_train, y_pred, average = 'weighted')))\n",
        "print('Type II Error :  ', (1-specificity_score(y_train, y_pred, average = 'weighted'))) "
      ],
      "execution_count": 0,
      "outputs": [
        {
          "output_type": "stream",
          "text": [
            "Accuracy :        0.791812865497076\n",
            "ROC :             0.843859649122807\n",
            "Precision :       0.7936934200073933\n",
            "Recall :          0.791812865497076\n",
            "F-Measure :       0.7922200623664525\n",
            "Geometric Mean :  0.8422530734475733\n",
            "Sensitivity :     0.791812865497076\n",
            "Specificity :     0.895906432748538\n",
            "Type I Error :    0.15774692655242673\n",
            "Type II Error :   0.10409356725146202\n"
          ],
          "name": "stdout"
        }
      ]
    },
    {
      "cell_type": "code",
      "metadata": {
        "id": "7wLSBfqCa0-3",
        "colab_type": "code",
        "outputId": "478a265a-3595-49a1-e9f5-6ac3e1903e49",
        "colab": {
          "base_uri": "https://localhost:8080/",
          "height": 185
        }
      },
      "source": [
        "# ---KNN\n",
        "knn = KNeighborsClassifier()\n",
        "y_pred = cross_val_predict(estimator = knn, X = x_train, y = y_train, cv = 10)\n",
        "\n",
        "print('Accuracy :       ', accuracy_score(y_train, y_pred)) \n",
        "print('ROC :            ', roc_auc_score(label_binarize(y_train, classes=[0,1,2]), \n",
        "                                         label_binarize(y_pred, classes=[0,1,2]), average = 'weighted'))\n",
        "\n",
        "print('Precision :      ', precision_score(y_train, y_pred, average='weighted')) \n",
        "print('Recall :         ', recall_score(y_train, y_pred, average='weighted')) \n",
        "print('F-Measure :      ', f1_score(y_train, y_pred, average = 'weighted'))\n",
        "print('Geometric Mean : ', geometric_mean_score(y_train, y_pred, average = 'weighted'))\n",
        "print('Sensitivity :    ', sensitivity_score(y_train, y_pred, average = 'weighted'))\n",
        "print('Specificity :    ', specificity_score(y_train, y_pred, average = 'weighted'))\n",
        "print('Type I Error :   ', (1-geometric_mean_score(y_train, y_pred, average = 'weighted')))\n",
        "print('Type II Error :  ', (1-specificity_score(y_train, y_pred, average = 'weighted'))) \n"
      ],
      "execution_count": 0,
      "outputs": [
        {
          "output_type": "stream",
          "text": [
            "Accuracy :        0.8690058479532163\n",
            "ROC :             0.9017543859649123\n",
            "Precision :       0.883362601864943\n",
            "Recall :          0.8690058479532163\n",
            "F-Measure :       0.8710715630703447\n",
            "Geometric Mean :  0.9011595340809819\n",
            "Sensitivity :     0.8690058479532163\n",
            "Specificity :     0.9345029239766082\n",
            "Type I Error :    0.09884046591901807\n",
            "Type II Error :   0.06549707602339183\n"
          ],
          "name": "stdout"
        }
      ]
    },
    {
      "cell_type": "code",
      "metadata": {
        "id": "y-JkDqyla1Bi",
        "colab_type": "code",
        "outputId": "9f763f16-4b99-48a0-dc94-1f50b3454538",
        "colab": {
          "base_uri": "https://localhost:8080/",
          "height": 243
        }
      },
      "source": [
        "#--- Decision Tree------\n",
        "from sklearn.tree import DecisionTreeClassifier\n",
        "dt = DecisionTreeClassifier()\n",
        "y_pred = cross_val_predict(estimator = dt, X = x_train, y = y_train, cv = 10)\n",
        "\n",
        "print('Accuracy :       ', accuracy_score(y_train, y_pred)) \n",
        "print('ROC :            ', roc_auc_score(label_binarize(y_train, classes=[0,1,2]), \n",
        "                                         label_binarize(y_pred, classes=[0,1,2]), average = 'weighted'))\n",
        "\n",
        "print('Precision :      ', precision_score(y_train, y_pred, average='weighted')) \n",
        "print('Recall :         ', recall_score(y_train, y_pred, average='weighted')) \n",
        "print('F-Measure :      ', f1_score(y_train, y_pred, average = 'weighted'))\n",
        "print('Geometric Mean : ', geometric_mean_score(y_train, y_pred, average = 'weighted'))\n",
        "print('Sensitivity :    ', sensitivity_score(y_train, y_pred, average = 'weighted'))\n",
        "print('Specificity :    ', specificity_score(y_train, y_pred, average = 'weighted'))\n",
        "print('Type I Error :   ', (1-geometric_mean_score(y_train, y_pred, average = 'weighted')))\n",
        "print('Type II Error :  ', (1-specificity_score(y_train, y_pred, average = 'weighted'))) "
      ],
      "execution_count": 0,
      "outputs": [
        {
          "output_type": "error",
          "ename": "NameError",
          "evalue": "ignored",
          "traceback": [
            "\u001b[0;31m---------------------------------------------------------------------------\u001b[0m",
            "\u001b[0;31mNameError\u001b[0m                                 Traceback (most recent call last)",
            "\u001b[0;32m<ipython-input-1-9d0923f3d973>\u001b[0m in \u001b[0;36m<module>\u001b[0;34m()\u001b[0m\n\u001b[1;32m      2\u001b[0m \u001b[0;32mfrom\u001b[0m \u001b[0msklearn\u001b[0m\u001b[0;34m.\u001b[0m\u001b[0mtree\u001b[0m \u001b[0;32mimport\u001b[0m \u001b[0mDecisionTreeClassifier\u001b[0m\u001b[0;34m\u001b[0m\u001b[0;34m\u001b[0m\u001b[0m\n\u001b[1;32m      3\u001b[0m \u001b[0mdt\u001b[0m \u001b[0;34m=\u001b[0m \u001b[0mDecisionTreeClassifier\u001b[0m\u001b[0;34m(\u001b[0m\u001b[0;34m)\u001b[0m\u001b[0;34m\u001b[0m\u001b[0;34m\u001b[0m\u001b[0m\n\u001b[0;32m----> 4\u001b[0;31m \u001b[0my_pred\u001b[0m \u001b[0;34m=\u001b[0m \u001b[0mcross_val_predict\u001b[0m\u001b[0;34m(\u001b[0m\u001b[0mestimator\u001b[0m \u001b[0;34m=\u001b[0m \u001b[0mdt\u001b[0m\u001b[0;34m,\u001b[0m \u001b[0mX\u001b[0m \u001b[0;34m=\u001b[0m \u001b[0mx_train\u001b[0m\u001b[0;34m,\u001b[0m \u001b[0my\u001b[0m \u001b[0;34m=\u001b[0m \u001b[0my_train\u001b[0m\u001b[0;34m,\u001b[0m \u001b[0mcv\u001b[0m \u001b[0;34m=\u001b[0m \u001b[0;36m10\u001b[0m\u001b[0;34m)\u001b[0m\u001b[0;34m\u001b[0m\u001b[0;34m\u001b[0m\u001b[0m\n\u001b[0m\u001b[1;32m      5\u001b[0m \u001b[0;34m\u001b[0m\u001b[0m\n\u001b[1;32m      6\u001b[0m \u001b[0mprint\u001b[0m\u001b[0;34m(\u001b[0m\u001b[0;34m'Accuracy :       '\u001b[0m\u001b[0;34m,\u001b[0m \u001b[0maccuracy_score\u001b[0m\u001b[0;34m(\u001b[0m\u001b[0my_train\u001b[0m\u001b[0;34m,\u001b[0m \u001b[0my_pred\u001b[0m\u001b[0;34m)\u001b[0m\u001b[0;34m)\u001b[0m\u001b[0;34m\u001b[0m\u001b[0;34m\u001b[0m\u001b[0m\n",
            "\u001b[0;31mNameError\u001b[0m: name 'cross_val_predict' is not defined"
          ]
        }
      ]
    },
    {
      "cell_type": "code",
      "metadata": {
        "id": "yjMUmHlJa1EH",
        "colab_type": "code",
        "outputId": "711919b7-5668-4d04-835e-426bb7208fb0",
        "colab": {
          "base_uri": "https://localhost:8080/",
          "height": 185
        }
      },
      "source": [
        "#------Logistic Regression ------\n",
        "logreg = LogisticRegression(solver='liblinear',max_iter=1000)\n",
        "y_pred = cross_val_predict(estimator = logreg, X = x_train, y = y_train, cv = 10)\n",
        "\n",
        "print('Accuracy :       ', accuracy_score(y_train, y_pred)) \n",
        "print('ROC :            ', roc_auc_score(label_binarize(y_train, classes=[0,1,2]), \n",
        "                                         label_binarize(y_pred, classes=[0,1,2]), average = 'weighted'))\n",
        "\n",
        "print('Precision :      ', precision_score(y_train, y_pred, average='weighted')) \n",
        "print('Recall :         ', recall_score(y_train, y_pred, average='weighted')) \n",
        "print('F-Measure :      ', f1_score(y_train, y_pred, average = 'weighted'))\n",
        "print('Geometric Mean : ', geometric_mean_score(y_train, y_pred, average = 'weighted'))\n",
        "print('Sensitivity :    ', sensitivity_score(y_train, y_pred, average = 'weighted'))\n",
        "print('Specificity :    ', specificity_score(y_train, y_pred, average = 'weighted'))\n",
        "print('Type I Error :   ', (1-geometric_mean_score(y_train, y_pred, average = 'weighted')))\n",
        "print('Type II Error :  ', (1-specificity_score(y_train, y_pred, average = 'weighted'))) \n"
      ],
      "execution_count": 0,
      "outputs": [
        {
          "output_type": "stream",
          "text": [
            "Accuracy :        0.9099415204678363\n",
            "ROC :             0.9324561403508772\n",
            "Precision :       0.9106105395931297\n",
            "Recall :          0.9099415204678363\n",
            "F-Measure :       0.9101715570834162\n",
            "Geometric Mean :  0.9321842873432147\n",
            "Sensitivity :     0.9099415204678363\n",
            "Specificity :     0.9549707602339181\n",
            "Type I Error :    0.06781571265678532\n",
            "Type II Error :   0.04502923976608186\n"
          ],
          "name": "stdout"
        }
      ]
    },
    {
      "cell_type": "code",
      "metadata": {
        "id": "1xi24H0za1Hb",
        "colab_type": "code",
        "outputId": "c5235e6f-91f0-401e-b756-ca1c6ff05f38",
        "colab": {
          "base_uri": "https://localhost:8080/",
          "height": 185
        }
      },
      "source": [
        "#----Random forest ------\n",
        "rf = RandomForestClassifier(n_estimators = 100, random_state = 0) \n",
        "y_pred = cross_val_predict(estimator = rf, X = x_train, y = y_train, cv = 10)\n",
        "\n",
        "print('Accuracy :       ', accuracy_score(y_train, y_pred)) \n",
        "print('ROC :            ', roc_auc_score(label_binarize(y_train, classes=[0,1,2]), \n",
        "                                         label_binarize(y_pred, classes=[0,1,2]), average = 'weighted'))\n",
        "\n",
        "print('Precision :      ', precision_score(y_train, y_pred, average='weighted')) \n",
        "print('Recall :         ', recall_score(y_train, y_pred, average='weighted')) \n",
        "print('F-Measure :      ', f1_score(y_train, y_pred, average = 'weighted'))\n",
        "print('Geometric Mean : ', geometric_mean_score(y_train, y_pred, average = 'weighted'))\n",
        "print('Sensitivity :    ', sensitivity_score(y_train, y_pred, average = 'weighted'))\n",
        "print('Specificity :    ', specificity_score(y_train, y_pred, average = 'weighted'))\n",
        "print('Type I Error :   ', (1-geometric_mean_score(y_train, y_pred, average = 'weighted')))\n",
        "print('Type II Error :  ', (1-specificity_score(y_train, y_pred, average = 'weighted')))  \n"
      ],
      "execution_count": 0,
      "outputs": [
        {
          "output_type": "stream",
          "text": [
            "Accuracy :        0.9076023391812865\n",
            "ROC :             0.9307017543859649\n",
            "Precision :       0.9072416701282682\n",
            "Recall :          0.9076023391812865\n",
            "F-Measure :       0.9072207287933094\n",
            "Geometric Mean :  0.9304150539594224\n",
            "Sensitivity :     0.9076023391812865\n",
            "Specificity :     0.9538011695906433\n",
            "Type I Error :    0.06958494604057763\n",
            "Type II Error :   0.046198830409356684\n"
          ],
          "name": "stdout"
        }
      ]
    },
    {
      "cell_type": "code",
      "metadata": {
        "id": "n71lmk_ebvcQ",
        "colab_type": "code",
        "outputId": "841fe94b-d670-49ee-d139-2c1e92afce32",
        "colab": {
          "base_uri": "https://localhost:8080/",
          "height": 185
        }
      },
      "source": [
        "#---- Gradient Boosting --------\n",
        "gb_clf = GradientBoostingClassifier(n_estimators=100,  max_features=2, max_depth=2, random_state=0)\n",
        "y_pred = cross_val_predict(estimator = gb_clf, X = x_train, y = y_train, cv = 10)\n",
        "\n",
        "print('Accuracy :       ', accuracy_score(y_train, y_pred)) \n",
        "print('ROC :            ', roc_auc_score(label_binarize(y_train, classes=[0,1,2]), \n",
        "                                         label_binarize(y_pred, classes=[0,1,2]), average = 'weighted'))\n",
        "\n",
        "print('Precision :      ', precision_score(y_train, y_pred, average='weighted')) \n",
        "print('Recall :         ', recall_score(y_train, y_pred, average='weighted')) \n",
        "print('F-Measure :      ', f1_score(y_train, y_pred, average = 'weighted'))\n",
        "print('Geometric Mean : ', geometric_mean_score(y_train, y_pred, average = 'weighted'))\n",
        "print('Sensitivity :    ', sensitivity_score(y_train, y_pred, average = 'weighted'))\n",
        "print('Specificity :    ', specificity_score(y_train, y_pred, average = 'weighted'))\n",
        "print('Type I Error :   ', (1-geometric_mean_score(y_train, y_pred, average = 'weighted')))\n",
        "print('Type II Error :  ', (1-specificity_score(y_train, y_pred, average = 'weighted'))) \n"
      ],
      "execution_count": 0,
      "outputs": [
        {
          "output_type": "stream",
          "text": [
            "Accuracy :        0.9064327485380117\n",
            "ROC :             0.9298245614035088\n",
            "Precision :       0.906647637764572\n",
            "Recall :          0.9064327485380117\n",
            "F-Measure :       0.9060984015259826\n",
            "Geometric Mean :  0.9295302781943647\n",
            "Sensitivity :     0.9064327485380117\n",
            "Specificity :     0.9532163742690059\n",
            "Type I Error :    0.07046972180563527\n",
            "Type II Error :   0.04678362573099415\n"
          ],
          "name": "stdout"
        }
      ]
    },
    {
      "cell_type": "code",
      "metadata": {
        "id": "2D8b-qtHbvfT",
        "colab_type": "code",
        "outputId": "e0eb674f-fe39-4296-9954-611855c02699",
        "colab": {
          "base_uri": "https://localhost:8080/",
          "height": 185
        }
      },
      "source": [
        "#--------XGB----------\n",
        "xgb = XGBClassifier()\n",
        "y_pred = cross_val_predict(estimator = xgb, X = x_train, y = y_train, cv = 10)\n",
        "\n",
        "print('Accuracy :       ', accuracy_score(y_train, y_pred)) \n",
        "print('ROC :            ', roc_auc_score(label_binarize(y_train, classes=[0,1,2]), \n",
        "                                         label_binarize(y_pred, classes=[0,1,2]), average = 'weighted'))\n",
        "\n",
        "print('Precision :      ', precision_score(y_train, y_pred, average='weighted')) \n",
        "print('Recall :         ', recall_score(y_train, y_pred, average='weighted')) \n",
        "print('F-Measure :      ', f1_score(y_train, y_pred, average = 'weighted'))\n",
        "print('Geometric Mean : ', geometric_mean_score(y_train, y_pred, average = 'weighted'))\n",
        "print('Sensitivity :    ', sensitivity_score(y_train, y_pred, average = 'weighted'))\n",
        "print('Specificity :    ', specificity_score(y_train, y_pred, average = 'weighted'))\n",
        "print('Type I Error :   ', (1-geometric_mean_score(y_train, y_pred, average = 'weighted')))\n",
        "print('Type II Error :  ', (1-specificity_score(y_train, y_pred, average = 'weighted'))) "
      ],
      "execution_count": 0,
      "outputs": [
        {
          "output_type": "stream",
          "text": [
            "Accuracy :        0.927485380116959\n",
            "ROC :             0.9456140350877194\n",
            "Precision :       0.9275477925452505\n",
            "Recall :          0.927485380116959\n",
            "F-Measure :       0.9274013136463349\n",
            "Geometric Mean :  0.9454402441317111\n",
            "Sensitivity :     0.927485380116959\n",
            "Specificity :     0.9637426900584796\n",
            "Type I Error :    0.05455975586828887\n",
            "Type II Error :   0.03625730994152043\n"
          ],
          "name": "stdout"
        }
      ]
    },
    {
      "cell_type": "code",
      "metadata": {
        "id": "1AiavjD8bvhd",
        "colab_type": "code",
        "outputId": "e9a19bc8-0b1f-454b-b3ee-73e80dd199bd",
        "colab": {
          "base_uri": "https://localhost:8080/",
          "height": 185
        }
      },
      "source": [
        "#---------mlp--------\n",
        "mlp = MLPClassifier(solver='adam', alpha=1e-5, random_state=1,)\n",
        "y_pred = cross_val_predict(estimator = mlp, X = x_train, y = y_train, cv = 10)\n",
        "\n",
        "print('Accuracy :       ', accuracy_score(y_train, y_pred)) \n",
        "print('ROC :            ', roc_auc_score(label_binarize(y_train, classes=[0,1,2]), \n",
        "                                         label_binarize(y_pred, classes=[0,1,2]), average = 'weighted'))\n",
        "\n",
        "print('Precision :      ', precision_score(y_train, y_pred, average='weighted')) \n",
        "print('Recall :         ', recall_score(y_train, y_pred, average='weighted')) \n",
        "print('F-Measure :      ', f1_score(y_train, y_pred, average = 'weighted'))\n",
        "print('Geometric Mean : ', geometric_mean_score(y_train, y_pred, average = 'weighted'))\n",
        "print('Sensitivity :    ', sensitivity_score(y_train, y_pred, average = 'weighted'))\n",
        "print('Specificity :    ', specificity_score(y_train, y_pred, average = 'weighted'))\n",
        "print('Type I Error :   ', (1-geometric_mean_score(y_train, y_pred, average = 'weighted')))\n",
        "print('Type II Error :  ', (1-specificity_score(y_train, y_pred, average = 'weighted'))) "
      ],
      "execution_count": 0,
      "outputs": [
        {
          "output_type": "stream",
          "text": [
            "Accuracy :        0.935672514619883\n",
            "ROC :             0.9517543859649122\n",
            "Precision :       0.936247510519498\n",
            "Recall :          0.935672514619883\n",
            "F-Measure :       0.935841627202374\n",
            "Geometric Mean :  0.9516185079208417\n",
            "Sensitivity :     0.935672514619883\n",
            "Specificity :     0.9678362573099415\n",
            "Type I Error :    0.04838149207915832\n",
            "Type II Error :   0.032163742690058506\n"
          ],
          "name": "stdout"
        }
      ]
    },
    {
      "cell_type": "code",
      "metadata": {
        "id": "IkxUtQQFbvju",
        "colab_type": "code",
        "outputId": "57fbf1a0-3c75-4774-a9d4-4e1d4003a51b",
        "colab": {
          "base_uri": "https://localhost:8080/",
          "height": 185
        }
      },
      "source": [
        "#nearest centroid \n",
        "from sklearn.neighbors import NearestCentroid\n",
        "\n",
        "clf = NearestCentroid(metric= 'manhattan')\n",
        "y_pred = cross_val_predict(estimator = clf, X = x_train, y = y_train, cv = 10)\n",
        "\n",
        "print('Accuracy :       ', accuracy_score(y_train, y_pred)) \n",
        "print('ROC :            ', roc_auc_score(label_binarize(y_train, classes=[0,1,2]), \n",
        "                                         label_binarize(y_pred, classes=[0,1,2]), average = 'weighted'))\n",
        "\n",
        "print('Precision :      ', precision_score(y_train, y_pred, average='weighted')) \n",
        "print('Recall :         ', recall_score(y_train, y_pred, average='weighted')) \n",
        "print('F-Measure :      ', f1_score(y_train, y_pred, average = 'weighted'))\n",
        "print('Geometric Mean : ', geometric_mean_score(y_train, y_pred, average = 'weighted'))\n",
        "print('Sensitivity :    ', sensitivity_score(y_train, y_pred, average = 'weighted'))\n",
        "print('Specificity :    ', specificity_score(y_train, y_pred, average = 'weighted'))\n",
        "print('Type I Error :   ', (1-geometric_mean_score(y_train, y_pred, average = 'weighted')))\n",
        "print('Type II Error :  ', (1-specificity_score(y_train, y_pred, average = 'weighted'))) "
      ],
      "execution_count": 0,
      "outputs": [
        {
          "output_type": "stream",
          "text": [
            "Accuracy :        0.7988304093567251\n",
            "ROC :             0.849122807017544\n",
            "Precision :       0.8107852306475709\n",
            "Recall :          0.7988304093567251\n",
            "F-Measure :       0.8009060831641477\n",
            "Geometric Mean :  0.8476321231140778\n",
            "Sensitivity :     0.7988304093567251\n",
            "Specificity :     0.8994152046783626\n",
            "Type I Error :    0.15236787688592224\n",
            "Type II Error :   0.10058479532163744\n"
          ],
          "name": "stdout"
        }
      ]
    },
    {
      "cell_type": "code",
      "metadata": {
        "id": "x0xHiesQbvlz",
        "colab_type": "code",
        "colab": {}
      },
      "source": [
        "#------------SGD -----------\n",
        "from sklearn.linear_model import SGDClassifier\n",
        "clf = SGDClassifier(loss=\"hinge\", penalty=\"l2\", max_iter = 1000)\n",
        "y_pred = cross_val_predict(estimator = clf, X = x_train, y = y_train, cv = 10)\n",
        "\n",
        "print('Accuracy :       ', accuracy_score(y_train, y_pred)) \n",
        "print('ROC :            ', roc_auc_score(label_binarize(y_train, classes=[0,1,2]), \n",
        "                                         label_binarize(y_pred, classes=[0,1,2]), average = 'weighted'))\n",
        "\n",
        "print('Precision :      ', precision_score(y_train, y_pred, average='weighted')) \n",
        "print('Recall :         ', recall_score(y_train, y_pred, average='weighted')) \n",
        "print('F-Measure :      ', f1_score(y_train, y_pred, average = 'weighted'))\n",
        "print('Geometric Mean : ', geometric_mean_score(y_train, y_pred, average = 'weighted'))\n",
        "print('Sensitivity :    ', sensitivity_score(y_train, y_pred, average = 'weighted'))\n",
        "print('Specificity :    ', specificity_score(y_train, y_pred, average = 'weighted'))\n",
        "print('Type I Error :   ', (1-geometric_mean_score(y_train, y_pred, average = 'weighted')))\n",
        "print('Type II Error :  ', (1-specificity_score(y_train, y_pred, average = 'weighted'))) "
      ],
      "execution_count": 0,
      "outputs": []
    },
    {
      "cell_type": "code",
      "metadata": {
        "id": "H_N0d908bvo1",
        "colab_type": "code",
        "outputId": "aaaa3d72-a245-45c0-f98a-4615f79faa98",
        "colab": {
          "base_uri": "https://localhost:8080/",
          "height": 185
        }
      },
      "source": [
        "#-----------perceptron--------\n",
        "from sklearn.linear_model import Perceptron\n",
        "clf = Perceptron(tol=1e-3, random_state=0)\n",
        "y_pred = cross_val_predict(estimator = clf, X = x_train, y = y_train, cv = 10)\n",
        "\n",
        "print('Accuracy :       ', accuracy_score(y_train, y_pred)) \n",
        "print('ROC :            ', roc_auc_score(label_binarize(y_train, classes=[0,1,2]), \n",
        "                                         label_binarize(y_pred, classes=[0,1,2]), average = 'weighted'))\n",
        "\n",
        "print('Precision :      ', precision_score(y_train, y_pred, average='weighted')) \n",
        "print('Recall :         ', recall_score(y_train, y_pred, average='weighted')) \n",
        "print('F-Measure :      ', f1_score(y_train, y_pred, average = 'weighted'))\n",
        "print('Geometric Mean : ', geometric_mean_score(y_train, y_pred, average = 'weighted'))\n",
        "print('Sensitivity :    ', sensitivity_score(y_train, y_pred, average = 'weighted'))\n",
        "print('Specificity :    ', specificity_score(y_train, y_pred, average = 'weighted'))\n",
        "print('Type I Error :   ', (1-geometric_mean_score(y_train, y_pred, average = 'weighted')))\n",
        "print('Type II Error :  ', (1-specificity_score(y_train, y_pred, average = 'weighted'))) \n"
      ],
      "execution_count": 0,
      "outputs": [
        {
          "output_type": "stream",
          "text": [
            "Accuracy :        0.9076023391812865\n",
            "ROC :             0.9307017543859649\n",
            "Precision :       0.909453653624845\n",
            "Recall :          0.9076023391812865\n",
            "F-Measure :       0.9080766295689328\n",
            "Geometric Mean :  0.9304150539594224\n",
            "Sensitivity :     0.9076023391812865\n",
            "Specificity :     0.9538011695906433\n",
            "Type I Error :    0.06958494604057763\n",
            "Type II Error :   0.046198830409356684\n"
          ],
          "name": "stdout"
        }
      ]
    },
    {
      "cell_type": "code",
      "metadata": {
        "id": "Yam9XR9j0Sao",
        "colab_type": "code",
        "outputId": "37f3099d-623b-4800-e7eb-1991e989784f",
        "colab": {
          "base_uri": "https://localhost:8080/",
          "height": 34
        }
      },
      "source": [
        "import numpy as np\n",
        "np.random.randint(1,1000, 1)[0]"
      ],
      "execution_count": 0,
      "outputs": [
        {
          "output_type": "execute_result",
          "data": {
            "text/plain": [
              "727"
            ]
          },
          "metadata": {
            "tags": []
          },
          "execution_count": 3
        }
      ]
    }
  ]
}