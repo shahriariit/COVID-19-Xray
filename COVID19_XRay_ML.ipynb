{
  "nbformat": 4,
  "nbformat_minor": 0,
  "metadata": {
    "colab": {
      "name": "COVID19_XRay_ML.ipynb",
      "provenance": [],
      "collapsed_sections": [],
      "include_colab_link": true
    },
    "kernelspec": {
      "name": "python3",
      "display_name": "Python 3"
    }
  },
  "cells": [
    {
      "cell_type": "markdown",
      "metadata": {
        "id": "view-in-github",
        "colab_type": "text"
      },
      "source": [
        "<a href=\"https://colab.research.google.com/github/shahriariit/COVID-19-Xray/blob/master/COVID19_XRay_ML.ipynb\" target=\"_parent\"><img src=\"https://colab.research.google.com/assets/colab-badge.svg\" alt=\"Open In Colab\"/></a>"
      ]
    },
    {
      "cell_type": "code",
      "metadata": {
        "id": "EuD8XO7lOV0s",
        "colab_type": "code",
        "outputId": "3b4a46b2-6fde-4bfc-a259-19781cb735f5",
        "colab": {
          "base_uri": "https://localhost:8080/",
          "height": 458
        }
      },
      "source": [
        "import pandas as pd \n",
        "df1 = pd.read_csv('train2.csv')\n",
        "\n",
        "print(df1.shape)\n",
        "\n"
      ],
      "execution_count": 0,
      "outputs": [
        {
          "output_type": "error",
          "ename": "FileNotFoundError",
          "evalue": "ignored",
          "traceback": [
            "\u001b[0;31m---------------------------------------------------------------------------\u001b[0m",
            "\u001b[0;31mFileNotFoundError\u001b[0m                         Traceback (most recent call last)",
            "\u001b[0;32m<ipython-input-1-284ac9ef8ed9>\u001b[0m in \u001b[0;36m<module>\u001b[0;34m()\u001b[0m\n\u001b[1;32m      1\u001b[0m \u001b[0;32mimport\u001b[0m \u001b[0mpandas\u001b[0m \u001b[0;32mas\u001b[0m \u001b[0mpd\u001b[0m\u001b[0;34m\u001b[0m\u001b[0;34m\u001b[0m\u001b[0m\n\u001b[0;32m----> 2\u001b[0;31m \u001b[0mdf1\u001b[0m \u001b[0;34m=\u001b[0m \u001b[0mpd\u001b[0m\u001b[0;34m.\u001b[0m\u001b[0mread_csv\u001b[0m\u001b[0;34m(\u001b[0m\u001b[0;34m'train2.csv'\u001b[0m\u001b[0;34m)\u001b[0m\u001b[0;34m\u001b[0m\u001b[0;34m\u001b[0m\u001b[0m\n\u001b[0m\u001b[1;32m      3\u001b[0m \u001b[0;34m\u001b[0m\u001b[0m\n\u001b[1;32m      4\u001b[0m \u001b[0mprint\u001b[0m\u001b[0;34m(\u001b[0m\u001b[0mdf1\u001b[0m\u001b[0;34m.\u001b[0m\u001b[0mshape\u001b[0m\u001b[0;34m)\u001b[0m\u001b[0;34m\u001b[0m\u001b[0;34m\u001b[0m\u001b[0m\n\u001b[1;32m      5\u001b[0m \u001b[0;34m\u001b[0m\u001b[0m\n",
            "\u001b[0;32m/usr/local/lib/python3.6/dist-packages/pandas/io/parsers.py\u001b[0m in \u001b[0;36mparser_f\u001b[0;34m(filepath_or_buffer, sep, delimiter, header, names, index_col, usecols, squeeze, prefix, mangle_dupe_cols, dtype, engine, converters, true_values, false_values, skipinitialspace, skiprows, skipfooter, nrows, na_values, keep_default_na, na_filter, verbose, skip_blank_lines, parse_dates, infer_datetime_format, keep_date_col, date_parser, dayfirst, cache_dates, iterator, chunksize, compression, thousands, decimal, lineterminator, quotechar, quoting, doublequote, escapechar, comment, encoding, dialect, error_bad_lines, warn_bad_lines, delim_whitespace, low_memory, memory_map, float_precision)\u001b[0m\n\u001b[1;32m    674\u001b[0m         )\n\u001b[1;32m    675\u001b[0m \u001b[0;34m\u001b[0m\u001b[0m\n\u001b[0;32m--> 676\u001b[0;31m         \u001b[0;32mreturn\u001b[0m \u001b[0m_read\u001b[0m\u001b[0;34m(\u001b[0m\u001b[0mfilepath_or_buffer\u001b[0m\u001b[0;34m,\u001b[0m \u001b[0mkwds\u001b[0m\u001b[0;34m)\u001b[0m\u001b[0;34m\u001b[0m\u001b[0;34m\u001b[0m\u001b[0m\n\u001b[0m\u001b[1;32m    677\u001b[0m \u001b[0;34m\u001b[0m\u001b[0m\n\u001b[1;32m    678\u001b[0m     \u001b[0mparser_f\u001b[0m\u001b[0;34m.\u001b[0m\u001b[0m__name__\u001b[0m \u001b[0;34m=\u001b[0m \u001b[0mname\u001b[0m\u001b[0;34m\u001b[0m\u001b[0;34m\u001b[0m\u001b[0m\n",
            "\u001b[0;32m/usr/local/lib/python3.6/dist-packages/pandas/io/parsers.py\u001b[0m in \u001b[0;36m_read\u001b[0;34m(filepath_or_buffer, kwds)\u001b[0m\n\u001b[1;32m    446\u001b[0m \u001b[0;34m\u001b[0m\u001b[0m\n\u001b[1;32m    447\u001b[0m     \u001b[0;31m# Create the parser.\u001b[0m\u001b[0;34m\u001b[0m\u001b[0;34m\u001b[0m\u001b[0;34m\u001b[0m\u001b[0m\n\u001b[0;32m--> 448\u001b[0;31m     \u001b[0mparser\u001b[0m \u001b[0;34m=\u001b[0m \u001b[0mTextFileReader\u001b[0m\u001b[0;34m(\u001b[0m\u001b[0mfp_or_buf\u001b[0m\u001b[0;34m,\u001b[0m \u001b[0;34m**\u001b[0m\u001b[0mkwds\u001b[0m\u001b[0;34m)\u001b[0m\u001b[0;34m\u001b[0m\u001b[0;34m\u001b[0m\u001b[0m\n\u001b[0m\u001b[1;32m    449\u001b[0m \u001b[0;34m\u001b[0m\u001b[0m\n\u001b[1;32m    450\u001b[0m     \u001b[0;32mif\u001b[0m \u001b[0mchunksize\u001b[0m \u001b[0;32mor\u001b[0m \u001b[0miterator\u001b[0m\u001b[0;34m:\u001b[0m\u001b[0;34m\u001b[0m\u001b[0;34m\u001b[0m\u001b[0m\n",
            "\u001b[0;32m/usr/local/lib/python3.6/dist-packages/pandas/io/parsers.py\u001b[0m in \u001b[0;36m__init__\u001b[0;34m(self, f, engine, **kwds)\u001b[0m\n\u001b[1;32m    878\u001b[0m             \u001b[0mself\u001b[0m\u001b[0;34m.\u001b[0m\u001b[0moptions\u001b[0m\u001b[0;34m[\u001b[0m\u001b[0;34m\"has_index_names\"\u001b[0m\u001b[0;34m]\u001b[0m \u001b[0;34m=\u001b[0m \u001b[0mkwds\u001b[0m\u001b[0;34m[\u001b[0m\u001b[0;34m\"has_index_names\"\u001b[0m\u001b[0;34m]\u001b[0m\u001b[0;34m\u001b[0m\u001b[0;34m\u001b[0m\u001b[0m\n\u001b[1;32m    879\u001b[0m \u001b[0;34m\u001b[0m\u001b[0m\n\u001b[0;32m--> 880\u001b[0;31m         \u001b[0mself\u001b[0m\u001b[0;34m.\u001b[0m\u001b[0m_make_engine\u001b[0m\u001b[0;34m(\u001b[0m\u001b[0mself\u001b[0m\u001b[0;34m.\u001b[0m\u001b[0mengine\u001b[0m\u001b[0;34m)\u001b[0m\u001b[0;34m\u001b[0m\u001b[0;34m\u001b[0m\u001b[0m\n\u001b[0m\u001b[1;32m    881\u001b[0m \u001b[0;34m\u001b[0m\u001b[0m\n\u001b[1;32m    882\u001b[0m     \u001b[0;32mdef\u001b[0m \u001b[0mclose\u001b[0m\u001b[0;34m(\u001b[0m\u001b[0mself\u001b[0m\u001b[0;34m)\u001b[0m\u001b[0;34m:\u001b[0m\u001b[0;34m\u001b[0m\u001b[0;34m\u001b[0m\u001b[0m\n",
            "\u001b[0;32m/usr/local/lib/python3.6/dist-packages/pandas/io/parsers.py\u001b[0m in \u001b[0;36m_make_engine\u001b[0;34m(self, engine)\u001b[0m\n\u001b[1;32m   1112\u001b[0m     \u001b[0;32mdef\u001b[0m \u001b[0m_make_engine\u001b[0m\u001b[0;34m(\u001b[0m\u001b[0mself\u001b[0m\u001b[0;34m,\u001b[0m \u001b[0mengine\u001b[0m\u001b[0;34m=\u001b[0m\u001b[0;34m\"c\"\u001b[0m\u001b[0;34m)\u001b[0m\u001b[0;34m:\u001b[0m\u001b[0;34m\u001b[0m\u001b[0;34m\u001b[0m\u001b[0m\n\u001b[1;32m   1113\u001b[0m         \u001b[0;32mif\u001b[0m \u001b[0mengine\u001b[0m \u001b[0;34m==\u001b[0m \u001b[0;34m\"c\"\u001b[0m\u001b[0;34m:\u001b[0m\u001b[0;34m\u001b[0m\u001b[0;34m\u001b[0m\u001b[0m\n\u001b[0;32m-> 1114\u001b[0;31m             \u001b[0mself\u001b[0m\u001b[0;34m.\u001b[0m\u001b[0m_engine\u001b[0m \u001b[0;34m=\u001b[0m \u001b[0mCParserWrapper\u001b[0m\u001b[0;34m(\u001b[0m\u001b[0mself\u001b[0m\u001b[0;34m.\u001b[0m\u001b[0mf\u001b[0m\u001b[0;34m,\u001b[0m \u001b[0;34m**\u001b[0m\u001b[0mself\u001b[0m\u001b[0;34m.\u001b[0m\u001b[0moptions\u001b[0m\u001b[0;34m)\u001b[0m\u001b[0;34m\u001b[0m\u001b[0;34m\u001b[0m\u001b[0m\n\u001b[0m\u001b[1;32m   1115\u001b[0m         \u001b[0;32melse\u001b[0m\u001b[0;34m:\u001b[0m\u001b[0;34m\u001b[0m\u001b[0;34m\u001b[0m\u001b[0m\n\u001b[1;32m   1116\u001b[0m             \u001b[0;32mif\u001b[0m \u001b[0mengine\u001b[0m \u001b[0;34m==\u001b[0m \u001b[0;34m\"python\"\u001b[0m\u001b[0;34m:\u001b[0m\u001b[0;34m\u001b[0m\u001b[0;34m\u001b[0m\u001b[0m\n",
            "\u001b[0;32m/usr/local/lib/python3.6/dist-packages/pandas/io/parsers.py\u001b[0m in \u001b[0;36m__init__\u001b[0;34m(self, src, **kwds)\u001b[0m\n\u001b[1;32m   1889\u001b[0m         \u001b[0mkwds\u001b[0m\u001b[0;34m[\u001b[0m\u001b[0;34m\"usecols\"\u001b[0m\u001b[0;34m]\u001b[0m \u001b[0;34m=\u001b[0m \u001b[0mself\u001b[0m\u001b[0;34m.\u001b[0m\u001b[0musecols\u001b[0m\u001b[0;34m\u001b[0m\u001b[0;34m\u001b[0m\u001b[0m\n\u001b[1;32m   1890\u001b[0m \u001b[0;34m\u001b[0m\u001b[0m\n\u001b[0;32m-> 1891\u001b[0;31m         \u001b[0mself\u001b[0m\u001b[0;34m.\u001b[0m\u001b[0m_reader\u001b[0m \u001b[0;34m=\u001b[0m \u001b[0mparsers\u001b[0m\u001b[0;34m.\u001b[0m\u001b[0mTextReader\u001b[0m\u001b[0;34m(\u001b[0m\u001b[0msrc\u001b[0m\u001b[0;34m,\u001b[0m \u001b[0;34m**\u001b[0m\u001b[0mkwds\u001b[0m\u001b[0;34m)\u001b[0m\u001b[0;34m\u001b[0m\u001b[0;34m\u001b[0m\u001b[0m\n\u001b[0m\u001b[1;32m   1892\u001b[0m         \u001b[0mself\u001b[0m\u001b[0;34m.\u001b[0m\u001b[0munnamed_cols\u001b[0m \u001b[0;34m=\u001b[0m \u001b[0mself\u001b[0m\u001b[0;34m.\u001b[0m\u001b[0m_reader\u001b[0m\u001b[0;34m.\u001b[0m\u001b[0munnamed_cols\u001b[0m\u001b[0;34m\u001b[0m\u001b[0;34m\u001b[0m\u001b[0m\n\u001b[1;32m   1893\u001b[0m \u001b[0;34m\u001b[0m\u001b[0m\n",
            "\u001b[0;32mpandas/_libs/parsers.pyx\u001b[0m in \u001b[0;36mpandas._libs.parsers.TextReader.__cinit__\u001b[0;34m()\u001b[0m\n",
            "\u001b[0;32mpandas/_libs/parsers.pyx\u001b[0m in \u001b[0;36mpandas._libs.parsers.TextReader._setup_parser_source\u001b[0;34m()\u001b[0m\n",
            "\u001b[0;31mFileNotFoundError\u001b[0m: [Errno 2] File train2.csv does not exist: 'train2.csv'"
          ]
        }
      ]
    },
    {
      "cell_type": "code",
      "metadata": {
        "id": "_YsHrZ_nZwYB",
        "colab_type": "code",
        "outputId": "cc8c2c3f-169d-4169-88a1-a868d3746302",
        "colab": {
          "base_uri": "https://localhost:8080/",
          "height": 50
        }
      },
      "source": [
        " \n",
        "x_train= df1.iloc[:, 0:10000].values\n",
        "y_train = df1.iloc[:, 10000]\n",
        "print(len(y_train))\n",
        "print(len(x_train))\n",
        " \n"
      ],
      "execution_count": 0,
      "outputs": [
        {
          "output_type": "stream",
          "text": [
            "855\n",
            "855\n"
          ],
          "name": "stdout"
        }
      ]
    },
    {
      "cell_type": "code",
      "metadata": {
        "id": "MZ3GFGjDZwa0",
        "colab_type": "code",
        "colab": {}
      },
      "source": [
        "#REMOVE constant,quasi constant and duplicate features \n",
        "from sklearn.feature_selection import VarianceThreshold,mutual_info_classif\n",
        "from sklearn.feature_selection import SelectKBest , SelectPercentile\n"
      ],
      "execution_count": 0,
      "outputs": []
    },
    {
      "cell_type": "code",
      "metadata": {
        "id": "CyzJHHtmZwcs",
        "colab_type": "code",
        "colab": {}
      },
      "source": [
        "constant_filter = VarianceThreshold(threshold=0.01)\n",
        "constant_filter.fit(x_train) \n",
        "x_train_filter = constant_filter.transform(x_train)\n",
        "x_train_T = x_train_filter.T"
      ],
      "execution_count": 0,
      "outputs": []
    },
    {
      "cell_type": "code",
      "metadata": {
        "id": "TL0LWNwmZwfX",
        "colab_type": "code",
        "outputId": "ae91c10f-ec31-4919-eb1f-3a38cafa1e1b",
        "colab": {
          "base_uri": "https://localhost:8080/",
          "height": 34
        }
      },
      "source": [
        "x_train_T = pd.DataFrame(x_train_T)\n",
        "x_train_T.duplicated().sum()"
      ],
      "execution_count": 0,
      "outputs": [
        {
          "output_type": "execute_result",
          "data": {
            "text/plain": [
              "0"
            ]
          },
          "metadata": {
            "tags": []
          },
          "execution_count": 6
        }
      ]
    },
    {
      "cell_type": "code",
      "metadata": {
        "id": "S1itQvyDZwh-",
        "colab_type": "code",
        "colab": {}
      },
      "source": [
        "duplicated_features = x_train_T.duplicated()"
      ],
      "execution_count": 0,
      "outputs": []
    },
    {
      "cell_type": "code",
      "metadata": {
        "id": "TQiAm6TvZwkX",
        "colab_type": "code",
        "colab": {}
      },
      "source": [
        "features_to_keep = [not index for index in duplicated_features]"
      ],
      "execution_count": 0,
      "outputs": []
    },
    {
      "cell_type": "code",
      "metadata": {
        "id": "Bcg4iEaWZwmR",
        "colab_type": "code",
        "colab": {}
      },
      "source": [
        "x_train_unique = x_train_T[features_to_keep].T"
      ],
      "execution_count": 0,
      "outputs": []
    },
    {
      "cell_type": "code",
      "metadata": {
        "id": "J_2Z62NYZwon",
        "colab_type": "code",
        "outputId": "d35189b2-0797-4b30-e17e-06365181fb54",
        "colab": {
          "base_uri": "https://localhost:8080/",
          "height": 34
        }
      },
      "source": [
        "x_train_unique.shape"
      ],
      "execution_count": 0,
      "outputs": [
        {
          "output_type": "execute_result",
          "data": {
            "text/plain": [
              "(855, 10000)"
            ]
          },
          "metadata": {
            "tags": []
          },
          "execution_count": 10
        }
      ]
    },
    {
      "cell_type": "code",
      "metadata": {
        "id": "nbWGcMhfZwrK",
        "colab_type": "code",
        "colab": {}
      },
      "source": [
        "###Feature Selection using Mutual Information Gain"
      ],
      "execution_count": 0,
      "outputs": []
    },
    {
      "cell_type": "code",
      "metadata": {
        "id": "FXzI2ZTuZws5",
        "colab_type": "code",
        "colab": {}
      },
      "source": [
        "mi = mutual_info_classif(x_train,y_train)"
      ],
      "execution_count": 0,
      "outputs": []
    },
    {
      "cell_type": "code",
      "metadata": {
        "id": "XqnlfViLZwu0",
        "colab_type": "code",
        "outputId": "fb169341-86df-45a9-f154-be439bfee255",
        "colab": {
          "base_uri": "https://localhost:8080/",
          "height": 34
        }
      },
      "source": [
        "len(mi)"
      ],
      "execution_count": 0,
      "outputs": [
        {
          "output_type": "execute_result",
          "data": {
            "text/plain": [
              "10000"
            ]
          },
          "metadata": {
            "tags": []
          },
          "execution_count": 12
        }
      ]
    },
    {
      "cell_type": "code",
      "metadata": {
        "id": "DiFKOBFYZwxD",
        "colab_type": "code",
        "colab": {}
      },
      "source": [
        "mi = pd.Series(mi)\n",
        "mi.index = x_train_unique.columns"
      ],
      "execution_count": 0,
      "outputs": []
    },
    {
      "cell_type": "code",
      "metadata": {
        "id": "YLV1_5O6Zwy4",
        "colab_type": "code",
        "outputId": "7c3e8337-ae4e-4bfe-9052-5ba8f64990bb",
        "colab": {
          "base_uri": "https://localhost:8080/",
          "height": 352
        }
      },
      "source": [
        "mi.sort_values(ascending=False,inplace = True)\n",
        "mi.plot.bar(figsize=(16,5))"
      ],
      "execution_count": 0,
      "outputs": [
        {
          "output_type": "execute_result",
          "data": {
            "text/plain": [
              "<matplotlib.axes._subplots.AxesSubplot at 0x7fe28f90cbe0>"
            ]
          },
          "metadata": {
            "tags": []
          },
          "execution_count": 14
        },
        {
          "output_type": "display_data",
          "data": {
            "image/png": "[encoded data removed]",
            "text/plain": [
              "<Figure size 1152x360 with 1 Axes>"
            ]
          },
          "metadata": {
            "tags": [],
            "needs_background": "light"
          }
        }
      ]
    },
    {
      "cell_type": "code",
      "metadata": {
        "id": "K5LOiEBTZw1R",
        "colab_type": "code",
        "colab": {}
      },
      "source": [
        "#percentille selection\n",
        "sel = SelectPercentile(mutual_info_classif,percentile=10).fit(x_train_unique,y_train)\n",
        "x  = x_train_unique.columns[sel.get_support()]\n",
        " \n",
        "    "
      ],
      "execution_count": 0,
      "outputs": []
    },
    {
      "cell_type": "code",
      "metadata": {
        "id": "qKroCM2LZw2z",
        "colab_type": "code",
        "outputId": "5810e74a-45a6-41f6-aeb5-75579bed039b",
        "colab": {
          "base_uri": "https://localhost:8080/",
          "height": 34
        }
      },
      "source": [
        "len(x_train_unique.columns[sel.get_support()])"
      ],
      "execution_count": 0,
      "outputs": [
        {
          "output_type": "execute_result",
          "data": {
            "text/plain": [
              "1000"
            ]
          },
          "metadata": {
            "tags": []
          },
          "execution_count": 16
        }
      ]
    },
    {
      "cell_type": "code",
      "metadata": {
        "id": "FoeDtE0KZw45",
        "colab_type": "code",
        "outputId": "e2b6f6b4-ff09-4073-9cae-e02a32438bef",
        "colab": {
          "base_uri": "https://localhost:8080/",
          "height": 34
        }
      },
      "source": [
        "x_train_mi = sel.transform(x_train_unique)\n",
        "x_train_mi.shape"
      ],
      "execution_count": 0,
      "outputs": [
        {
          "output_type": "execute_result",
          "data": {
            "text/plain": [
              "(855, 1000)"
            ]
          },
          "metadata": {
            "tags": []
          },
          "execution_count": 17
        }
      ]
    },
    {
      "cell_type": "code",
      "metadata": {
        "id": "QAdp8a9JZw7i",
        "colab_type": "code",
        "outputId": "c2bcfe9f-c4c1-44e9-8b7e-926d1fb81a3d",
        "colab": {
          "base_uri": "https://localhost:8080/",
          "height": 34
        }
      },
      "source": [
        "x_train.shape"
      ],
      "execution_count": 0,
      "outputs": [
        {
          "output_type": "execute_result",
          "data": {
            "text/plain": [
              "(855, 10000)"
            ]
          },
          "metadata": {
            "tags": []
          },
          "execution_count": 18
        }
      ]
    },
    {
      "cell_type": "code",
      "metadata": {
        "id": "gNxQLz9MZw-b",
        "colab_type": "code",
        "colab": {}
      },
      "source": [
        "## KBest Selection \n",
        "select_feature = SelectKBest(mutual_info_classif,k=5).fit(x_train_unique,y_train)"
      ],
      "execution_count": 0,
      "outputs": []
    },
    {
      "cell_type": "code",
      "metadata": {
        "id": "MPkyDNzUa0sZ",
        "colab_type": "code",
        "colab": {}
      },
      "source": [
        "selected_features_df = pd.DataFrame({'Feature':list(x_train_unique.columns),\n",
        "                                     'Scores':select_feature.scores_ })\n",
        "selected_features_df.sort_values(by='Scores',ascending = False) "
      ],
      "execution_count": 0,
      "outputs": []
    },
    {
      "cell_type": "code",
      "metadata": {
        "id": "U9l5eIB_a0us",
        "colab_type": "code",
        "colab": {}
      },
      "source": [
        "selected_features_df.to_csv('feature.csv', index=False, encoding='utf-8')"
      ],
      "execution_count": 0,
      "outputs": []
    },
    {
      "cell_type": "code",
      "metadata": {
        "id": "T3HOJSJQa0wm",
        "colab_type": "code",
        "colab": {}
      },
      "source": [
        ""
      ],
      "execution_count": 0,
      "outputs": []
    },
    {
      "cell_type": "code",
      "metadata": {
        "id": "u1tng_8ia0yp",
        "colab_type": "code",
        "colab": {}
      },
      "source": [
        "# Scaling \n",
        "from sklearn.preprocessing import StandardScaler\n",
        "sc = StandardScaler()\n",
        "x_train = sc.fit_transform(x_train)"
      ],
      "execution_count": 0,
      "outputs": []
    },
    {
      "cell_type": "code",
      "metadata": {
        "id": "MnwCbkgpa003",
        "colab_type": "code",
        "outputId": "0c879b1c-aadc-4729-cd6c-eb40858953cf",
        "colab": {
          "base_uri": "https://localhost:8080/",
          "height": 138
        }
      },
      "source": [
        "from sklearn.metrics import accuracy_score \n",
        "from sklearn.metrics import f1_score \n",
        "from sklearn.neighbors import KNeighborsClassifier\n",
        "from sklearn.naive_bayes import GaussianNB  \n",
        "from sklearn.svm import SVC \n",
        "from sklearn.linear_model import LogisticRegression \n",
        "from sklearn.neural_network import MLPClassifier\n",
        "from xgboost import XGBClassifier\n",
        "from sklearn.ensemble import RandomForestClassifier \n",
        "from sklearn.ensemble import GradientBoostingClassifier\n",
        "from sklearn.metrics import precision_score\n",
        "from sklearn.metrics import recall_score\n",
        "from imblearn.metrics import geometric_mean_score \n",
        "from imblearn.metrics import sensitivity_score \n",
        "from imblearn.metrics import specificity_score \n",
        "from sklearn.preprocessing import label_binarize \n",
        "from sklearn.metrics import roc_auc_score \n",
        "from sklearn.model_selection import cross_val_predict \n",
        "from sklearn.tree import DecisionTreeClassifier\n",
        "from sklearn.neighbors import KNeighborsClassifier\n",
        "from sklearn.naive_bayes import GaussianNB\n",
        "from sklearn.naive_bayes import BernoulliNB\n",
        "from sklearn.model_selection import train_test_split\n"
      ],
      "execution_count": 0,
      "outputs": [
        {
          "output_type": "stream",
          "text": [
            "/usr/local/lib/python3.6/dist-packages/sklearn/externals/six.py:31: FutureWarning: The module is deprecated in version 0.21 and will be removed in version 0.23 since we've dropped support for Python 2.7. Please rely on the official version of six (https://pypi.org/project/six/).\n",
            "  \"(https://pypi.org/project/six/).\", FutureWarning)\n",
            "/usr/local/lib/python3.6/dist-packages/sklearn/utils/deprecation.py:144: FutureWarning: The sklearn.neighbors.base module is  deprecated in version 0.22 and will be removed in version 0.24. The corresponding classes / functions should instead be imported from sklearn.neighbors. Anything that cannot be imported from sklearn.neighbors is now part of the private API.\n",
            "  warnings.warn(message, FutureWarning)\n",
            "/usr/local/lib/python3.6/dist-packages/sklearn/utils/deprecation.py:144: FutureWarning: The sklearn.metrics.classification module is  deprecated in version 0.22 and will be removed in version 0.24. The corresponding classes / functions should instead be imported from sklearn.metrics. Anything that cannot be imported from sklearn.metrics is now part of the private API.\n",
            "  warnings.warn(message, FutureWarning)\n"
          ],
          "name": "stderr"
        }
      ]
    },
    {
      "cell_type": "code",
      "metadata": {
        "id": "39fsjYpba028",
        "colab_type": "code",
        "outputId": "bc5e6537-3545-4fa6-d122-8ffa88d2673a",
        "colab": {
          "base_uri": "https://localhost:8080/",
          "height": 185
        }
      },
      "source": [
        "#####  SVM  ##############\n",
        "from sklearn import svm,metrics\n",
        "\n",
        "classifier = svm.SVC(kernel='linear',gamma=0.001)\n",
        "y_pred = cross_val_predict(estimator = classifier, X = x_train, y = y_train, cv = 10) \n",
        "\n",
        "print('Accuracy :       ', accuracy_score(y_train, y_pred)) \n",
        "print('ROC :            ', roc_auc_score(label_binarize(y_train, classes=[0,1,2]), \n",
        "                                         label_binarize(y_pred, classes=[0,1,2]), average = 'weighted')) \n",
        "\n",
        "print('Precision :      ', precision_score(y_train, y_pred, average='weighted')) \n",
        "print('Recall :         ', recall_score(y_train, y_pred, average='weighted')) \n",
        "print('F-Measure :      ', f1_score(y_train, y_pred, average = 'weighted')) \n",
        "print('Geometric Mean : ', geometric_mean_score(y_train, y_pred, average = 'weighted')) \n",
        "print('Sensitivity :    ', sensitivity_score(y_train, y_pred, average = 'weighted')) \n",
        "print('Specificity :    ', specificity_score(y_train, y_pred, average = 'weighted')) \n",
        "print('Type I Error :   ', (1-geometric_mean_score(y_train, y_pred, average = 'weighted'))) \n",
        "print('Type II Error :  ', (1-specificity_score(y_train, y_pred, average = 'weighted')))  \n"
      ],
      "execution_count": 0,
      "outputs": [
        {
          "output_type": "stream",
          "text": [
            "Accuracy :        0.9251461988304094\n",
            "ROC :             0.9438596491228071\n",
            "Precision :       0.9266473608117117\n",
            "Recall :          0.9251461988304094\n",
            "F-Measure :       0.9255887558941229\n",
            "Geometric Mean :  0.9436741196092973\n",
            "Sensitivity :     0.9251461988304094\n",
            "Specificity :     0.9625730994152046\n",
            "Type I Error :    0.05632588039070274\n",
            "Type II Error :   0.037426900584795364\n"
          ],
          "name": "stdout"
        }
      ]
    },
    {
      "cell_type": "code",
      "metadata": {
        "id": "CrLVvChNa05D",
        "colab_type": "code",
        "outputId": "8d9dd441-4b4c-47aa-fe4c-5bbd92f8088d",
        "colab": {
          "base_uri": "https://localhost:8080/",
          "height": 185
        }
      },
      "source": [
        "#Gaussian NB\n",
        "nb = GaussianNB()\n",
        "y_pred = cross_val_predict(estimator = nb, X = x_train, y = y_train, cv = 10)\n",
        "\n",
        "\n",
        "print('Accuracy :       ', accuracy_score(y_train, y_pred)) \n",
        "print('ROC :            ', roc_auc_score(label_binarize(y_train, classes=[0,1,2]), \n",
        "                                         label_binarize(y_pred, classes=[0,1,2]), average = 'weighted'))\n",
        "\n",
        "print('Precision :      ', precision_score(y_train, y_pred, average='weighted')) \n",
        "print('Recall :         ', recall_score(y_train, y_pred, average='weighted')) \n",
        "print('F-Measure :      ', f1_score(y_train, y_pred, average = 'weighted'))\n",
        "print('Geometric Mean : ', geometric_mean_score(y_train, y_pred, average = 'weighted'))\n",
        "print('Sensitivity :    ', sensitivity_score(y_train, y_pred, average = 'weighted'))\n",
        "print('Specificity :    ', specificity_score(y_train, y_pred, average = 'weighted'))\n",
        "print('Type I Error :   ', (1-geometric_mean_score(y_train, y_pred, average = 'weighted')))\n",
        "print('Type II Error :  ', (1-specificity_score(y_train, y_pred, average = 'weighted'))) "
      ],
      "execution_count": 0,
      "outputs": [
        {
          "output_type": "stream",
          "text": [
            "Accuracy :        0.8187134502923976\n",
            "ROC :             0.8640350877192983\n",
            "Precision :       0.8164918440494477\n",
            "Recall :          0.8187134502923976\n",
            "F-Measure :       0.8155078448086217\n",
            "Geometric Mean :  0.8628456304525393\n",
            "Sensitivity :     0.8187134502923976\n",
            "Specificity :     0.9093567251461988\n",
            "Type I Error :    0.13715436954746074\n",
            "Type II Error :   0.09064327485380119\n"
          ],
          "name": "stdout"
        }
      ]
    },
    {
      "cell_type": "code",
      "metadata": {
        "id": "CdFEuMMOa066",
        "colab_type": "code",
        "outputId": "8b366985-6216-4be3-f9d0-72cf0de313ab",
        "colab": {
          "base_uri": "https://localhost:8080/",
          "height": 185
        }
      },
      "source": [
        "#Bernoulli NB\n",
        " \n",
        "bnb = BernoulliNB(binarize=0.0)\n",
        "\n",
        "y_pred = cross_val_predict(estimator = bnb, X = x_train, y = y_train, cv = 10)\n",
        "\n",
        "print('Accuracy :       ', accuracy_score(y_train, y_pred)) \n",
        "print('ROC :            ', roc_auc_score(label_binarize(y_train, classes=[0,1,2]), \n",
        "                                         label_binarize(y_pred, classes=[0,1,2]), average = 'weighted'))\n",
        "\n",
        "print('Precision :      ', precision_score(y_train, y_pred, average='weighted')) \n",
        "print('Recall :         ', recall_score(y_train, y_pred, average='weighted')) \n",
        "print('F-Measure :      ', f1_score(y_train, y_pred, average = 'weighted'))\n",
        "print('Geometric Mean : ', geometric_mean_score(y_train, y_pred, average = 'weighted'))\n",
        "print('Sensitivity :    ', sensitivity_score(y_train, y_pred, average = 'weighted'))\n",
        "print('Specificity :    ', specificity_score(y_train, y_pred, average = 'weighted'))\n",
        "print('Type I Error :   ', (1-geometric_mean_score(y_train, y_pred, average = 'weighted')))\n",
        "print('Type II Error :  ', (1-specificity_score(y_train, y_pred, average = 'weighted'))) "
      ],
      "execution_count": 0,
      "outputs": [
        {
          "output_type": "stream",
          "text": [
            "Accuracy :        0.791812865497076\n",
            "ROC :             0.843859649122807\n",
            "Precision :       0.7936934200073933\n",
            "Recall :          0.791812865497076\n",
            "F-Measure :       0.7922200623664525\n",
            "Geometric Mean :  0.8422530734475733\n",
            "Sensitivity :     0.791812865497076\n",
            "Specificity :     0.895906432748538\n",
            "Type I Error :    0.15774692655242673\n",
            "Type II Error :   0.10409356725146202\n"
          ],
          "name": "stdout"
        }
      ]
    },
    {
      "cell_type": "code",
      "metadata": {
        "id": "7wLSBfqCa0-3",
        "colab_type": "code",
        "outputId": "478a265a-3595-49a1-e9f5-6ac3e1903e49",
        "colab": {
          "base_uri": "https://localhost:8080/",
          "height": 185
        }
      },
      "source": [
        "# ---KNN\n",
        "knn = KNeighborsClassifier()\n",
        "y_pred = cross_val_predict(estimator = knn, X = x_train, y = y_train, cv = 10)\n",
        "\n",
        "print('Accuracy :       ', accuracy_score(y_train, y_pred)) \n",
        "print('ROC :            ', roc_auc_score(label_binarize(y_train, classes=[0,1,2]), \n",
        "                                         label_binarize(y_pred, classes=[0,1,2]), average = 'weighted'))\n",
        "\n",
        "print('Precision :      ', precision_score(y_train, y_pred, average='weighted')) \n",
        "print('Recall :         ', recall_score(y_train, y_pred, average='weighted')) \n",
        "print('F-Measure :      ', f1_score(y_train, y_pred, average = 'weighted'))\n",
        "print('Geometric Mean : ', geometric_mean_score(y_train, y_pred, average = 'weighted'))\n",
        "print('Sensitivity :    ', sensitivity_score(y_train, y_pred, average = 'weighted'))\n",
        "print('Specificity :    ', specificity_score(y_train, y_pred, average = 'weighted'))\n",
        "print('Type I Error :   ', (1-geometric_mean_score(y_train, y_pred, average = 'weighted')))\n",
        "print('Type II Error :  ', (1-specificity_score(y_train, y_pred, average = 'weighted'))) \n"
      ],
      "execution_count": 0,
      "outputs": [
        {
          "output_type": "stream",
          "text": [
            "Accuracy :        0.8690058479532163\n",
            "ROC :             0.9017543859649123\n",
            "Precision :       0.883362601864943\n",
            "Recall :          0.8690058479532163\n",
            "F-Measure :       0.8710715630703447\n",
            "Geometric Mean :  0.9011595340809819\n",
            "Sensitivity :     0.8690058479532163\n",
            "Specificity :     0.9345029239766082\n",
            "Type I Error :    0.09884046591901807\n",
            "Type II Error :   0.06549707602339183\n"
          ],
          "name": "stdout"
        }
      ]
    },
    {
      "cell_type": "code",
      "metadata": {
        "id": "y-JkDqyla1Bi",
        "colab_type": "code",
        "outputId": "9f763f16-4b99-48a0-dc94-1f50b3454538",
        "colab": {
          "base_uri": "https://localhost:8080/",
          "height": 243
        }
      },
      "source": [
        "#--- Decision Tree------\n",
        "from sklearn.tree import DecisionTreeClassifier\n",
        "dt = DecisionTreeClassifier()\n",
        "y_pred = cross_val_predict(estimator = dt, X = x_train, y = y_train, cv = 10)\n",
        "\n",
        "print('Accuracy :       ', accuracy_score(y_train, y_pred)) \n",
        "print('ROC :            ', roc_auc_score(label_binarize(y_train, classes=[0,1,2]), \n",
        "                                         label_binarize(y_pred, classes=[0,1,2]), average = 'weighted'))\n",
        "\n",
        "print('Precision :      ', precision_score(y_train, y_pred, average='weighted')) \n",
        "print('Recall :         ', recall_score(y_train, y_pred, average='weighted')) \n",
        "print('F-Measure :      ', f1_score(y_train, y_pred, average = 'weighted'))\n",
        "print('Geometric Mean : ', geometric_mean_score(y_train, y_pred, average = 'weighted'))\n",
        "print('Sensitivity :    ', sensitivity_score(y_train, y_pred, average = 'weighted'))\n",
        "print('Specificity :    ', specificity_score(y_train, y_pred, average = 'weighted'))\n",
        "print('Type I Error :   ', (1-geometric_mean_score(y_train, y_pred, average = 'weighted')))\n",
        "print('Type II Error :  ', (1-specificity_score(y_train, y_pred, average = 'weighted'))) "
      ],
      "execution_count": 0,
      "outputs": [
        {
          "output_type": "error",
          "ename": "NameError",
          "evalue": "ignored",
          "traceback": [
            "\u001b[0;31m---------------------------------------------------------------------------\u001b[0m",
            "\u001b[0;31mNameError\u001b[0m                                 Traceback (most recent call last)",
            "\u001b[0;32m<ipython-input-1-9d0923f3d973>\u001b[0m in \u001b[0;36m<module>\u001b[0;34m()\u001b[0m\n\u001b[1;32m      2\u001b[0m \u001b[0;32mfrom\u001b[0m \u001b[0msklearn\u001b[0m\u001b[0;34m.\u001b[0m\u001b[0mtree\u001b[0m \u001b[0;32mimport\u001b[0m \u001b[0mDecisionTreeClassifier\u001b[0m\u001b[0;34m\u001b[0m\u001b[0;34m\u001b[0m\u001b[0m\n\u001b[1;32m      3\u001b[0m \u001b[0mdt\u001b[0m \u001b[0;34m=\u001b[0m \u001b[0mDecisionTreeClassifier\u001b[0m\u001b[0;34m(\u001b[0m\u001b[0;34m)\u001b[0m\u001b[0;34m\u001b[0m\u001b[0;34m\u001b[0m\u001b[0m\n\u001b[0;32m----> 4\u001b[0;31m \u001b[0my_pred\u001b[0m \u001b[0;34m=\u001b[0m \u001b[0mcross_val_predict\u001b[0m\u001b[0;34m(\u001b[0m\u001b[0mestimator\u001b[0m \u001b[0;34m=\u001b[0m \u001b[0mdt\u001b[0m\u001b[0;34m,\u001b[0m \u001b[0mX\u001b[0m \u001b[0;34m=\u001b[0m \u001b[0mx_train\u001b[0m\u001b[0;34m,\u001b[0m \u001b[0my\u001b[0m \u001b[0;34m=\u001b[0m \u001b[0my_train\u001b[0m\u001b[0;34m,\u001b[0m \u001b[0mcv\u001b[0m \u001b[0;34m=\u001b[0m \u001b[0;36m10\u001b[0m\u001b[0;34m)\u001b[0m\u001b[0;34m\u001b[0m\u001b[0;34m\u001b[0m\u001b[0m\n\u001b[0m\u001b[1;32m      5\u001b[0m \u001b[0;34m\u001b[0m\u001b[0m\n\u001b[1;32m      6\u001b[0m \u001b[0mprint\u001b[0m\u001b[0;34m(\u001b[0m\u001b[0;34m'Accuracy :       '\u001b[0m\u001b[0;34m,\u001b[0m \u001b[0maccuracy_score\u001b[0m\u001b[0;34m(\u001b[0m\u001b[0my_train\u001b[0m\u001b[0;34m,\u001b[0m \u001b[0my_pred\u001b[0m\u001b[0;34m)\u001b[0m\u001b[0;34m)\u001b[0m\u001b[0;34m\u001b[0m\u001b[0;34m\u001b[0m\u001b[0m\n",
            "\u001b[0;31mNameError\u001b[0m: name 'cross_val_predict' is not defined"
          ]
        }
      ]
    },
    {
      "cell_type": "code",
      "metadata": {
        "id": "yjMUmHlJa1EH",
        "colab_type": "code",
        "outputId": "711919b7-5668-4d04-835e-426bb7208fb0",
        "colab": {
          "base_uri": "https://localhost:8080/",
          "height": 185
        }
      },
      "source": [
        "#------Logistic Regression ------\n",
        "logreg = LogisticRegression(solver='liblinear',max_iter=1000)\n",
        "y_pred = cross_val_predict(estimator = logreg, X = x_train, y = y_train, cv = 10)\n",
        "\n",
        "print('Accuracy :       ', accuracy_score(y_train, y_pred)) \n",
        "print('ROC :            ', roc_auc_score(label_binarize(y_train, classes=[0,1,2]), \n",
        "                                         label_binarize(y_pred, classes=[0,1,2]), average = 'weighted'))\n",
        "\n",
        "print('Precision :      ', precision_score(y_train, y_pred, average='weighted')) \n",
        "print('Recall :         ', recall_score(y_train, y_pred, average='weighted')) \n",
        "print('F-Measure :      ', f1_score(y_train, y_pred, average = 'weighted'))\n",
        "print('Geometric Mean : ', geometric_mean_score(y_train, y_pred, average = 'weighted'))\n",
        "print('Sensitivity :    ', sensitivity_score(y_train, y_pred, average = 'weighted'))\n",
        "print('Specificity :    ', specificity_score(y_train, y_pred, average = 'weighted'))\n",
        "print('Type I Error :   ', (1-geometric_mean_score(y_train, y_pred, average = 'weighted')))\n",
        "print('Type II Error :  ', (1-specificity_score(y_train, y_pred, average = 'weighted'))) \n"
      ],
      "execution_count": 0,
      "outputs": [
        {
          "output_type": "stream",
          "text": [
            "Accuracy :        0.9099415204678363\n",
            "ROC :             0.9324561403508772\n",
            "Precision :       0.9106105395931297\n",
            "Recall :          0.9099415204678363\n",
            "F-Measure :       0.9101715570834162\n",
            "Geometric Mean :  0.9321842873432147\n",
            "Sensitivity :     0.9099415204678363\n",
            "Specificity :     0.9549707602339181\n",
            "Type I Error :    0.06781571265678532\n",
            "Type II Error :   0.04502923976608186\n"
          ],
          "name": "stdout"
        }
      ]
    },
    {
      "cell_type": "code",
      "metadata": {
        "id": "1xi24H0za1Hb",
        "colab_type": "code",
        "outputId": "c5235e6f-91f0-401e-b756-ca1c6ff05f38",
        "colab": {
          "base_uri": "https://localhost:8080/",
          "height": 185
        }
      },
      "source": [
        "#----Random forest ------\n",
        "rf = RandomForestClassifier(n_estimators = 100, random_state = 0) \n",
        "y_pred = cross_val_predict(estimator = rf, X = x_train, y = y_train, cv = 10)\n",
        "\n",
        "print('Accuracy :       ', accuracy_score(y_train, y_pred)) \n",
        "print('ROC :            ', roc_auc_score(label_binarize(y_train, classes=[0,1,2]), \n",
        "                                         label_binarize(y_pred, classes=[0,1,2]), average = 'weighted'))\n",
        "\n",
        "print('Precision :      ', precision_score(y_train, y_pred, average='weighted')) \n",
        "print('Recall :         ', recall_score(y_train, y_pred, average='weighted')) \n",
        "print('F-Measure :      ', f1_score(y_train, y_pred, average = 'weighted'))\n",
        "print('Geometric Mean : ', geometric_mean_score(y_train, y_pred, average = 'weighted'))\n",
        "print('Sensitivity :    ', sensitivity_score(y_train, y_pred, average = 'weighted'))\n",
        "print('Specificity :    ', specificity_score(y_train, y_pred, average = 'weighted'))\n",
        "print('Type I Error :   ', (1-geometric_mean_score(y_train, y_pred, average = 'weighted')))\n",
        "print('Type II Error :  ', (1-specificity_score(y_train, y_pred, average = 'weighted')))  \n"
      ],
      "execution_count": 0,
      "outputs": [
        {
          "output_type": "stream",
          "text": [
            "Accuracy :        0.9076023391812865\n",
            "ROC :             0.9307017543859649\n",
            "Precision :       0.9072416701282682\n",
            "Recall :          0.9076023391812865\n",
            "F-Measure :       0.9072207287933094\n",
            "Geometric Mean :  0.9304150539594224\n",
            "Sensitivity :     0.9076023391812865\n",
            "Specificity :     0.9538011695906433\n",
            "Type I Error :    0.06958494604057763\n",
            "Type II Error :   0.046198830409356684\n"
          ],
          "name": "stdout"
        }
      ]
    },
    {
      "cell_type": "code",
      "metadata": {
        "id": "n71lmk_ebvcQ",
        "colab_type": "code",
        "outputId": "841fe94b-d670-49ee-d139-2c1e92afce32",
        "colab": {
          "base_uri": "https://localhost:8080/",
          "height": 185
        }
      },
      "source": [
        "#---- Gradient Boosting --------\n",
        "gb_clf = GradientBoostingClassifier(n_estimators=100,  max_features=2, max_depth=2, random_state=0)\n",
        "y_pred = cross_val_predict(estimator = gb_clf, X = x_train, y = y_train, cv = 10)\n",
        "\n",
        "print('Accuracy :       ', accuracy_score(y_train, y_pred)) \n",
        "print('ROC :            ', roc_auc_score(label_binarize(y_train, classes=[0,1,2]), \n",
        "                                         label_binarize(y_pred, classes=[0,1,2]), average = 'weighted'))\n",
        "\n",
        "print('Precision :      ', precision_score(y_train, y_pred, average='weighted')) \n",
        "print('Recall :         ', recall_score(y_train, y_pred, average='weighted')) \n",
        "print('F-Measure :      ', f1_score(y_train, y_pred, average = 'weighted'))\n",
        "print('Geometric Mean : ', geometric_mean_score(y_train, y_pred, average = 'weighted'))\n",
        "print('Sensitivity :    ', sensitivity_score(y_train, y_pred, average = 'weighted'))\n",
        "print('Specificity :    ', specificity_score(y_train, y_pred, average = 'weighted'))\n",
        "print('Type I Error :   ', (1-geometric_mean_score(y_train, y_pred, average = 'weighted')))\n",
        "print('Type II Error :  ', (1-specificity_score(y_train, y_pred, average = 'weighted'))) \n"
      ],
      "execution_count": 0,
      "outputs": [
        {
          "output_type": "stream",
          "text": [
            "Accuracy :        0.9064327485380117\n",
            "ROC :             0.9298245614035088\n",
            "Precision :       0.906647637764572\n",
            "Recall :          0.9064327485380117\n",
            "F-Measure :       0.9060984015259826\n",
            "Geometric Mean :  0.9295302781943647\n",
            "Sensitivity :     0.9064327485380117\n",
            "Specificity :     0.9532163742690059\n",
            "Type I Error :    0.07046972180563527\n",
            "Type II Error :   0.04678362573099415\n"
          ],
          "name": "stdout"
        }
      ]
    },
    {
      "cell_type": "code",
      "metadata": {
        "id": "2D8b-qtHbvfT",
        "colab_type": "code",
        "outputId": "e0eb674f-fe39-4296-9954-611855c02699",
        "colab": {
          "base_uri": "https://localhost:8080/",
          "height": 185
        }
      },
      "source": [
        "#--------XGB----------\n",
        "xgb = XGBClassifier()\n",
        "y_pred = cross_val_predict(estimator = xgb, X = x_train, y = y_train, cv = 10)\n",
        "\n",
        "print('Accuracy :       ', accuracy_score(y_train, y_pred)) \n",
        "print('ROC :            ', roc_auc_score(label_binarize(y_train, classes=[0,1,2]), \n",
        "                                         label_binarize(y_pred, classes=[0,1,2]), average = 'weighted'))\n",
        "\n",
        "print('Precision :      ', precision_score(y_train, y_pred, average='weighted')) \n",
        "print('Recall :         ', recall_score(y_train, y_pred, average='weighted')) \n",
        "print('F-Measure :      ', f1_score(y_train, y_pred, average = 'weighted'))\n",
        "print('Geometric Mean : ', geometric_mean_score(y_train, y_pred, average = 'weighted'))\n",
        "print('Sensitivity :    ', sensitivity_score(y_train, y_pred, average = 'weighted'))\n",
        "print('Specificity :    ', specificity_score(y_train, y_pred, average = 'weighted'))\n",
        "print('Type I Error :   ', (1-geometric_mean_score(y_train, y_pred, average = 'weighted')))\n",
        "print('Type II Error :  ', (1-specificity_score(y_train, y_pred, average = 'weighted'))) "
      ],
      "execution_count": 0,
      "outputs": [
        {
          "output_type": "stream",
          "text": [
            "Accuracy :        0.927485380116959\n",
            "ROC :             0.9456140350877194\n",
            "Precision :       0.9275477925452505\n",
            "Recall :          0.927485380116959\n",
            "F-Measure :       0.9274013136463349\n",
            "Geometric Mean :  0.9454402441317111\n",
            "Sensitivity :     0.927485380116959\n",
            "Specificity :     0.9637426900584796\n",
            "Type I Error :    0.05455975586828887\n",
            "Type II Error :   0.03625730994152043\n"
          ],
          "name": "stdout"
        }
      ]
    },
    {
      "cell_type": "code",
      "metadata": {
        "id": "1AiavjD8bvhd",
        "colab_type": "code",
        "outputId": "e9a19bc8-0b1f-454b-b3ee-73e80dd199bd",
        "colab": {
          "base_uri": "https://localhost:8080/",
          "height": 185
        }
      },
      "source": [
        "#---------mlp--------\n",
        "mlp = MLPClassifier(solver='adam', alpha=1e-5, random_state=1,)\n",
        "y_pred = cross_val_predict(estimator = mlp, X = x_train, y = y_train, cv = 10)\n",
        "\n",
        "print('Accuracy :       ', accuracy_score(y_train, y_pred)) \n",
        "print('ROC :            ', roc_auc_score(label_binarize(y_train, classes=[0,1,2]), \n",
        "                                         label_binarize(y_pred, classes=[0,1,2]), average = 'weighted'))\n",
        "\n",
        "print('Precision :      ', precision_score(y_train, y_pred, average='weighted')) \n",
        "print('Recall :         ', recall_score(y_train, y_pred, average='weighted')) \n",
        "print('F-Measure :      ', f1_score(y_train, y_pred, average = 'weighted'))\n",
        "print('Geometric Mean : ', geometric_mean_score(y_train, y_pred, average = 'weighted'))\n",
        "print('Sensitivity :    ', sensitivity_score(y_train, y_pred, average = 'weighted'))\n",
        "print('Specificity :    ', specificity_score(y_train, y_pred, average = 'weighted'))\n",
        "print('Type I Error :   ', (1-geometric_mean_score(y_train, y_pred, average = 'weighted')))\n",
        "print('Type II Error :  ', (1-specificity_score(y_train, y_pred, average = 'weighted'))) "
      ],
      "execution_count": 0,
      "outputs": [
        {
          "output_type": "stream",
          "text": [
            "Accuracy :        0.935672514619883\n",
            "ROC :             0.9517543859649122\n",
            "Precision :       0.936247510519498\n",
            "Recall :          0.935672514619883\n",
            "F-Measure :       0.935841627202374\n",
            "Geometric Mean :  0.9516185079208417\n",
            "Sensitivity :     0.935672514619883\n",
            "Specificity :     0.9678362573099415\n",
            "Type I Error :    0.04838149207915832\n",
            "Type II Error :   0.032163742690058506\n"
          ],
          "name": "stdout"
        }
      ]
    },
    {
      "cell_type": "code",
      "metadata": {
        "id": "IkxUtQQFbvju",
        "colab_type": "code",
        "outputId": "57fbf1a0-3c75-4774-a9d4-4e1d4003a51b",
        "colab": {
          "base_uri": "https://localhost:8080/",
          "height": 185
        }
      },
      "source": [
        "#nearest centroid \n",
        "from sklearn.neighbors import NearestCentroid\n",
        "\n",
        "clf = NearestCentroid(metric= 'manhattan')\n",
        "y_pred = cross_val_predict(estimator = clf, X = x_train, y = y_train, cv = 10)\n",
        "\n",
        "print('Accuracy :       ', accuracy_score(y_train, y_pred)) \n",
        "print('ROC :            ', roc_auc_score(label_binarize(y_train, classes=[0,1,2]), \n",
        "                                         label_binarize(y_pred, classes=[0,1,2]), average = 'weighted'))\n",
        "\n",
        "print('Precision :      ', precision_score(y_train, y_pred, average='weighted')) \n",
        "print('Recall :         ', recall_score(y_train, y_pred, average='weighted')) \n",
        "print('F-Measure :      ', f1_score(y_train, y_pred, average = 'weighted'))\n",
        "print('Geometric Mean : ', geometric_mean_score(y_train, y_pred, average = 'weighted'))\n",
        "print('Sensitivity :    ', sensitivity_score(y_train, y_pred, average = 'weighted'))\n",
        "print('Specificity :    ', specificity_score(y_train, y_pred, average = 'weighted'))\n",
        "print('Type I Error :   ', (1-geometric_mean_score(y_train, y_pred, average = 'weighted')))\n",
        "print('Type II Error :  ', (1-specificity_score(y_train, y_pred, average = 'weighted'))) "
      ],
      "execution_count": 0,
      "outputs": [
        {
          "output_type": "stream",
          "text": [
            "Accuracy :        0.7988304093567251\n",
            "ROC :             0.849122807017544\n",
            "Precision :       0.8107852306475709\n",
            "Recall :          0.7988304093567251\n",
            "F-Measure :       0.8009060831641477\n",
            "Geometric Mean :  0.8476321231140778\n",
            "Sensitivity :     0.7988304093567251\n",
            "Specificity :     0.8994152046783626\n",
            "Type I Error :    0.15236787688592224\n",
            "Type II Error :   0.10058479532163744\n"
          ],
          "name": "stdout"
        }
      ]
    },
    {
      "cell_type": "code",
      "metadata": {
        "id": "x0xHiesQbvlz",
        "colab_type": "code",
        "colab": {}
      },
      "source": [
        "#------------SGD -----------\n",
        "from sklearn.linear_model import SGDClassifier\n",
        "clf = SGDClassifier(loss=\"hinge\", penalty=\"l2\", max_iter = 1000)\n",
        "y_pred = cross_val_predict(estimator = clf, X = x_train, y = y_train, cv = 10)\n",
        "\n",
        "print('Accuracy :       ', accuracy_score(y_train, y_pred)) \n",
        "print('ROC :            ', roc_auc_score(label_binarize(y_train, classes=[0,1,2]), \n",
        "                                         label_binarize(y_pred, classes=[0,1,2]), average = 'weighted'))\n",
        "\n",
        "print('Precision :      ', precision_score(y_train, y_pred, average='weighted')) \n",
        "print('Recall :         ', recall_score(y_train, y_pred, average='weighted')) \n",
        "print('F-Measure :      ', f1_score(y_train, y_pred, average = 'weighted'))\n",
        "print('Geometric Mean : ', geometric_mean_score(y_train, y_pred, average = 'weighted'))\n",
        "print('Sensitivity :    ', sensitivity_score(y_train, y_pred, average = 'weighted'))\n",
        "print('Specificity :    ', specificity_score(y_train, y_pred, average = 'weighted'))\n",
        "print('Type I Error :   ', (1-geometric_mean_score(y_train, y_pred, average = 'weighted')))\n",
        "print('Type II Error :  ', (1-specificity_score(y_train, y_pred, average = 'weighted'))) "
      ],
      "execution_count": 0,
      "outputs": []
    },
    {
      "cell_type": "code",
      "metadata": {
        "id": "H_N0d908bvo1",
        "colab_type": "code",
        "outputId": "aaaa3d72-a245-45c0-f98a-4615f79faa98",
        "colab": {
          "base_uri": "https://localhost:8080/",
          "height": 185
        }
      },
      "source": [
        "#-----------perceptron--------\n",
        "from sklearn.linear_model import Perceptron\n",
        "clf = Perceptron(tol=1e-3, random_state=0)\n",
        "y_pred = cross_val_predict(estimator = clf, X = x_train, y = y_train, cv = 10)\n",
        "\n",
        "print('Accuracy :       ', accuracy_score(y_train, y_pred)) \n",
        "print('ROC :            ', roc_auc_score(label_binarize(y_train, classes=[0,1,2]), \n",
        "                                         label_binarize(y_pred, classes=[0,1,2]), average = 'weighted'))\n",
        "\n",
        "print('Precision :      ', precision_score(y_train, y_pred, average='weighted')) \n",
        "print('Recall :         ', recall_score(y_train, y_pred, average='weighted')) \n",
        "print('F-Measure :      ', f1_score(y_train, y_pred, average = 'weighted'))\n",
        "print('Geometric Mean : ', geometric_mean_score(y_train, y_pred, average = 'weighted'))\n",
        "print('Sensitivity :    ', sensitivity_score(y_train, y_pred, average = 'weighted'))\n",
        "print('Specificity :    ', specificity_score(y_train, y_pred, average = 'weighted'))\n",
        "print('Type I Error :   ', (1-geometric_mean_score(y_train, y_pred, average = 'weighted')))\n",
        "print('Type II Error :  ', (1-specificity_score(y_train, y_pred, average = 'weighted'))) \n"
      ],
      "execution_count": 0,
      "outputs": [
        {
          "output_type": "stream",
          "text": [
            "Accuracy :        0.9076023391812865\n",
            "ROC :             0.9307017543859649\n",
            "Precision :       0.909453653624845\n",
            "Recall :          0.9076023391812865\n",
            "F-Measure :       0.9080766295689328\n",
            "Geometric Mean :  0.9304150539594224\n",
            "Sensitivity :     0.9076023391812865\n",
            "Specificity :     0.9538011695906433\n",
            "Type I Error :    0.06958494604057763\n",
            "Type II Error :   0.046198830409356684\n"
          ],
          "name": "stdout"
        }
      ]
    },
    {
      "cell_type": "code",
      "metadata": {
        "id": "Yam9XR9j0Sao",
        "colab_type": "code",
        "outputId": "37f3099d-623b-4800-e7eb-1991e989784f",
        "colab": {
          "base_uri": "https://localhost:8080/",
          "height": 34
        }
      },
      "source": [
        "import numpy as np\n",
        "np.random.randint(1,1000, 1)[0]"
      ],
      "execution_count": 0,
      "outputs": [
        {
          "output_type": "execute_result",
          "data": {
            "text/plain": [
              "727"
            ]
          },
          "metadata": {
            "tags": []
          },
          "execution_count": 3
        }
      ]
    }
  ]
}