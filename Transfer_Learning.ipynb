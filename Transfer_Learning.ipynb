{
  "nbformat": 4,
  "nbformat_minor": 0,
  "metadata": {
    "colab": {
      "name": "Untitled1.ipynb",
      "provenance": [],
      "authorship_tag": "ABX9TyNqh8lvWYPVQa42KxZpoE9k",
      "include_colab_link": true
    },
    "kernelspec": {
      "name": "python3",
      "display_name": "Python 3"
    }
  },
  "cells": [
    {
      "cell_type": "markdown",
      "metadata": {
        "id": "view-in-github",
        "colab_type": "text"
      },
      "source": [
        "<a href=\"https://colab.research.google.com/github/shahriariit/COVID-19-Xray/blob/master/Transfer_Learning.ipynb\" target=\"_parent\"><img src=\"https://colab.research.google.com/assets/colab-badge.svg\" alt=\"Open In Colab\"/></a>"
      ]
    },
    {
      "cell_type": "code",
      "metadata": {
        "id": "6yyb2gsTmRmB",
        "colab_type": "code",
        "colab": {}
      },
      "source": [
        "import numpy as np\n",
        "import pandas as pd\n",
        "\n",
        "import matplotlib.pyplot as plt\n",
        "%matplotlib inline \n",
        "\n",
        "import cv2\n",
        "\n",
        "import os"
      ],
      "execution_count": 0,
      "outputs": []
    },
    {
      "cell_type": "code",
      "metadata": {
        "id": "xWzyJ7llmXMx",
        "colab_type": "code",
        "colab": {}
      },
      "source": [
        "from keras.applications.resnet import ResNet50\n",
        "from keras.models import Sequential\n",
        "from keras.layers import Dense,Dropout\n",
        "\n",
        "### \n",
        "### Below systax is available with TensorFlow 1.11 onwards but this upgrade is not available for Kaggle kernel yet\n",
        "###\n",
        "#import tensorflow as tf\n",
        "\n",
        "#print(tf.__version__)\n",
        "#import tensorflow as tf\n",
        "#from tf.keras.applications import ResNet50\n",
        "#from tf.keras.models import Sequential"
      ],
      "execution_count": 0,
      "outputs": []
    },
    {
      "cell_type": "code",
      "metadata": {
        "id": "ReYrpMkxmXP4",
        "colab_type": "code",
        "colab": {}
      },
      "source": [
        "import cv2\n",
        "import os\n",
        "\n",
        "TRAIN_DATADIR= r'C:\\Users\\Asus\\Documents\\corona\\XRay\\covid-chestxray-dataset\\data\\train'\n",
        "#CATEGORIES =  [\"COVID_19\",\"NORMAL\",\"Viral_Pneumonia\"]\n",
        "CATEGORIES =  [\"COVID19\",\"NORMAL\",\"PNEUMONIA\"]\n",
        "\n",
        "IMG_SIZE = 100\n",
        "TEST_DATADIR = r'C:\\Users\\Asus\\Documents\\corona\\XRay\\covid-chestxray-dataset\\data\\test'\n",
        "training_data = []\n",
        "testing_data= []\n",
        "new_array = []\n",
        "\n",
        "def create_training_data():\n",
        "    \n",
        "    for category in CATEGORIES:\n",
        "        train_path = os.path.join(TRAIN_DATADIR, category)\n",
        "        test_path = os.path.join(TEST_DATADIR,category)\n",
        "        class_num = CATEGORIES.index(category)\n",
        "        for img in os.listdir(train_path):\n",
        "            try:\n",
        "                img_array =cv2.imread(os.path.join(train_path,img))\n",
        "\n",
        "                new_array = cv2.resize(img_array, (IMG_SIZE, IMG_SIZE))\n",
        "                new_array = new_array.flatten()\n",
        "              \n",
        "                training_data.append([new_array,class_num])\n",
        "            except Exception as e :\n",
        "                pass\n",
        "        \n",
        "        for img in os.listdir(test_path):\n",
        "            try:\n",
        "                img_array2 =cv2.imread(os.path.join(test_path,img))\n",
        "\n",
        "                new_array2 = cv2.resize(img_array2, (IMG_SIZE, IMG_SIZE))\n",
        "                new_array2 = new_array2.flatten()\n",
        "              \n",
        "                training_data.append([new_array2,class_num])\n",
        "            except Exception as e :\n",
        "                pass\n",
        "                \n",
        "create_training_data()           \n",
        "print(len(training_data))\n",
        "print(len(testing_data))\n",
        "\n"
      ],
      "execution_count": 0,
      "outputs": []
    },
    {
      "cell_type": "code",
      "metadata": {
        "id": "iCBiRRYRmXYX",
        "colab_type": "code",
        "colab": {}
      },
      "source": [
        "import random \n",
        "random.shuffle(training_data)\n",
        "random.shuffle(testing_data)\n",
        "\n",
        "#for sample in training_data[:10]:\n",
        " #   print(sample[1])\n",
        "X=[]\n",
        "y=[]\n",
        "\n",
        "\n",
        "for features, label in training_data:\n",
        "    X.append(features) \n",
        "    y.append(label) \n",
        "\n",
        "X = np.array(X).reshape(len(training_data),100,100,3)  \n",
        "y =np.array(y)  \n",
        "print(X.shape)  \n",
        "print(y.shape)  \n",
        " \n"
      ],
      "execution_count": 0,
      "outputs": []
    },
    {
      "cell_type": "code",
      "metadata": {
        "id": "8Ak5COyRmXbV",
        "colab_type": "code",
        "colab": {}
      },
      "source": [
        "from keras.utils import np_utils\n",
        "from keras.utils import to_categorical\n",
        "\n",
        "y = to_categorical(y)\n",
        "y.shape\n"
      ],
      "execution_count": 0,
      "outputs": []
    },
    {
      "cell_type": "code",
      "metadata": {
        "id": "tlagPl40mXdq",
        "colab_type": "code",
        "colab": {}
      },
      "source": [
        "print(X.shape)\n",
        "print(y.shape)"
      ],
      "execution_count": 0,
      "outputs": []
    },
    {
      "cell_type": "code",
      "metadata": {
        "id": "bFrc-vppmXgD",
        "colab_type": "code",
        "colab": {}
      },
      "source": [
        "#Still not talking about our train/test data or any pre-processing.\n",
        "def Transfer():\n",
        "    model = Sequential()\n",
        "\n",
        "    # 1st layer as the lumpsum weights from resnet50_weights_tf_dim_ordering_tf_kernels_notop.h5\n",
        "    # NOTE that this layer will be set below as NOT TRAINABLE, i.e., use it as is\n",
        "    model.add(ResNet50(include_top = False, pooling = 'avg', weights = 'imagenet'))\n",
        "    model.add(Dropout(0.4))\n",
        "    # 2nd layer as Dense for 2-class classification, i.e., dog or cat using SoftMax activation\n",
        "    model.add(Dense(3, activation = 'softmax'))\n",
        "\n",
        "    # Say not to train first layer (ResNet) model as it is already trained\n",
        "    model.layers[0].trainable = False\n",
        "    sgd = optimizers.SGD(lr = 0.01, decay = 1e-6, momentum = 0.9, nesterov = True)\n",
        "    model.compile(optimizer = sgd, loss = 'categorical_crossentropy', metrics = ['accuracy'])\n",
        "    return model"
      ],
      "execution_count": 0,
      "outputs": []
    },
    {
      "cell_type": "code",
      "metadata": {
        "id": "URRk4ThHmXi7",
        "colab_type": "code",
        "colab": {}
      },
      "source": [
        "model = Transfer()\n",
        "model.summary()"
      ],
      "execution_count": 0,
      "outputs": []
    },
    {
      "cell_type": "code",
      "metadata": {
        "id": "wCEwX3HImXld",
        "colab_type": "code",
        "colab": {}
      },
      "source": [
        "from keras import optimizers\n",
        "\n",
        "from keras.applications.resnet50 import preprocess_input\n",
        "preprocess_input(X) \n",
        "preprocess_input(y) "
      ],
      "execution_count": 0,
      "outputs": []
    },
    {
      "cell_type": "code",
      "metadata": {
        "id": "QpuvBjKWmXoB",
        "colab_type": "code",
        "colab": {}
      },
      "source": [
        "#set early stopping criteria\n",
        "from keras.callbacks import ModelCheckpoint, EarlyStopping\n",
        "avg_accuracy = []\n",
        "avg_loss=[]\n",
        "avg_validation_accuracy=[]\n",
        "avg_validation_loss=[]\n",
        "pat = 3 #this is the number of epochs with no improvment after which the training will stop\n",
        "early_stopping = EarlyStopping(monitor='val_loss', patience=pat, verbose=1)\n",
        "\n",
        "#define the model checkpoint callback -> this will keep on saving the model as a physical file\n",
        "model_checkpoint = ModelCheckpoint('fas_mnist_1.h5', verbose=1, save_best_only=True)\n",
        "\n",
        "#define a function to fit the model\n",
        "def fit_and_evaluate(t_x, val_x, t_y, val_y, EPOCHS=20, BATCH_SIZE=128):\n",
        "    model = None\n",
        "    model = Transfer() \n",
        "    results = model.fit(t_x, t_y, epochs=EPOCHS, batch_size=BATCH_SIZE, callbacks=[early_stopping, model_checkpoint], \n",
        "              verbose=1, validation_split=0.1) \n",
        "    \n",
        "   # avg_train_accuracy.append((results.history['accuracy'][-1])*100)\n",
        "    #avg_train_loss.append((results.history['loss'][-1])*100)\n",
        "    #avg_validation_accuracy.append((results.history['val_accuracy'][-1])*100)\n",
        "    #avg_validation_loss.append((results.history['val_loss'][-1])*100)\n",
        "    print('Covid19 Train acc: {}'.format(np.round((results.history['accuracy'][-1])*100)))  \n",
        "    model.load_weights('fas_mnist_1.h5')\n",
        "     \n",
        "    #print(\"Val Score: \", model.evaluate(val_x, val_y))\n",
        "    scores = model.evaluate(val_x, val_y)\n",
        "    print(\"val Scores: \",scores)\n",
        "    #print(model.metrics_names[0]+\" :\"+scores[0]) \n",
        "    #print(model.metrics_names[1]+\" :\"+scores[1]*100) \n",
        "    avg_accuracy.append(scores[1] * 100) \n",
        "    avg_loss.append(scores[0]) \n",
        "    return results "
      ],
      "execution_count": 0,
      "outputs": []
    },
    {
      "cell_type": "code",
      "metadata": {
        "id": "c3cSIKoOmXqn",
        "colab_type": "code",
        "colab": {}
      },
      "source": [
        "\n",
        "from sklearn.model_selection import train_test_split\n",
        "n_folds= 3\n",
        "epochs= 5\n",
        "batch_size= 16\n",
        "\n",
        "#save the model history in a list after fitting so that we can plot later\n",
        "model_history = [] \n",
        "\n",
        "for i in range(n_folds):\n",
        "    print(\"Training on Fold: \",i+1)\n",
        "    t_x, val_x, t_y, val_y = train_test_split(X, y, test_size=0.3, \n",
        "                                               random_state = np.random.randint(1,1000, 1)[0]) \n",
        "    model_history.append(fit_and_evaluate(t_x, val_x, t_y, val_y, epochs, batch_size)) \n",
        "    print(\"=======\"*12, end=\"\\n\\n\\n\") "
      ],
      "execution_count": 0,
      "outputs": []
    },
    {
      "cell_type": "code",
      "metadata": {
        "id": "T1fQBOXqmXuF",
        "colab_type": "code",
        "colab": {}
      },
      "source": [
        "avg_acc = np.mean(avg_accuracy)\n",
        "avg_loss = np.mean(avg_loss)\n",
        "print(avg_acc)\n",
        "print(avg_loss)"
      ],
      "execution_count": 0,
      "outputs": []
    },
    {
      "cell_type": "code",
      "metadata": {
        "id": "jEQkjBvvm35_",
        "colab_type": "code",
        "colab": {}
      },
      "source": [
        "plt.title('Train Accuracy vs Val Accuracy')\n",
        " \n",
        "plt.plot(model_history[0].history['accuracy'], label='Training Accuracy Fold 1',color='black' )\n",
        "plt.plot(model_history[0].history['val_accuracy'], label='Val Accuracy Fold 1', color='black', linestyle = \"dashdot\")\n",
        "plt.plot(model_history[1].history['accuracy'], label='Training Accuracy Fold 2',color='red')\n",
        "\n",
        "plt.plot(model_history[1].history['val_accuracy'], label='Val Accuracy Fold 2', color='red', linestyle = \"dashdot\")\n",
        "plt.plot(model_history[2].history['accuracy'], label='Training Accuracy Fold 3',color='green')\n",
        "\n",
        "plt.plot(model_history[2].history['val_accuracy'], label='Val Accuracy Fold 3', color='green', linestyle = \"dashdot\")\n",
        "\n",
        "\n",
        "\n",
        "plt.legend()\n",
        "plt.show()"
      ],
      "execution_count": 0,
      "outputs": []
    },
    {
      "cell_type": "code",
      "metadata": {
        "id": "8KusTyu3m39Q",
        "colab_type": "code",
        "colab": {}
      },
      "source": [
        "plt.title('Val loss')\n",
        " \n",
        "plt.plot(model_history[0].history['val_loss'], label='Val Accuracy Fold 1', color='black', linestyle = \"dashdot\")\n",
        "\n",
        "plt.plot(model_history[1].history['val_loss'], label='Val Accuracy Fold 2', color='red', linestyle = \"dashdot\")\n",
        "\n",
        "plt.plot(model_history[2].history['val_loss'], label='Val Accuracy Fold 3', color='yellow', linestyle = \"dashdot\")\n",
        "\n",
        "\n",
        "\n",
        "\n",
        "plt.legend()\n",
        "plt.show()"
      ],
      "execution_count": 0,
      "outputs": []
    },
    {
      "cell_type": "code",
      "metadata": {
        "id": "O7FncqQ4m4Ku",
        "colab_type": "code",
        "colab": {}
      },
      "source": [
        ""
      ],
      "execution_count": 0,
      "outputs": []
    }
  ]
}