{
  "nbformat": 4,
  "nbformat_minor": 0,
  "metadata": {
    "colab": {
      "name": "COVID-19 X-Ray ML.ipynb",
      "provenance": [],
      "include_colab_link": true
    },
    "kernelspec": {
      "name": "python3",
      "display_name": "Python 3"
    }
  },
  "cells": [
    {
      "cell_type": "markdown",
      "metadata": {
        "id": "view-in-github",
        "colab_type": "text"
      },
      "source": [
        "<a href=\"https://colab.research.google.com/github/shahriariit/COVID-19-Xray/blob/master/COVID_19_X_Ray_ML.ipynb\" target=\"_parent\"><img src=\"https://colab.research.google.com/assets/colab-badge.svg\" alt=\"Open In Colab\"/></a>"
      ]
    },
    {
      "cell_type": "code",
      "metadata": {
        "id": "EuD8XO7lOV0s",
        "colab_type": "code",
        "colab": {}
      },
      "source": [
        "import pandas as pd \n",
        "df1 = pd.read_csv('C:\\Users\\Asus\\Documents\\corona\\XRay\\xray_dataset_covid19\\radiography.csv')\n",
        "\n",
        "print(df1.shape)\n",
        " \n"
      ],
      "execution_count": 0,
      "outputs": []
    },
    {
      "cell_type": "code",
      "metadata": {
        "id": "_YsHrZ_nZwYB",
        "colab_type": "code",
        "colab": {}
      },
      "source": [
        " \n",
        "x_train= df1.iloc[:, 0:10000].values\n",
        "y_train = df1.iloc[:, 10000]\n",
        "print(len(y_train))\n",
        "print(len(x_train))\n",
        " \n"
      ],
      "execution_count": 0,
      "outputs": []
    },
    {
      "cell_type": "code",
      "metadata": {
        "id": "MZ3GFGjDZwa0",
        "colab_type": "code",
        "colab": {}
      },
      "source": [
        "#REMOVE constant,quasi constant and duplicate features \n",
        "from sklearn.feature_selection import VarianceThreshold,mutual_info_classif\n",
        "from sklearn.feature_selection import SelectKBest , SelectPercentile\n"
      ],
      "execution_count": 0,
      "outputs": []
    },
    {
      "cell_type": "code",
      "metadata": {
        "id": "CyzJHHtmZwcs",
        "colab_type": "code",
        "colab": {}
      },
      "source": [
        "constant_filter = VarianceThreshold(threshold=0.01)\n",
        "constant_filter.fit(x_train) \n",
        "x_train_filter = constant_filter.transform(x_train)\n",
        "x_train_T = x_train_filter.T"
      ],
      "execution_count": 0,
      "outputs": []
    },
    {
      "cell_type": "code",
      "metadata": {
        "id": "TL0LWNwmZwfX",
        "colab_type": "code",
        "colab": {}
      },
      "source": [
        "x_train_T = pd.DataFrame(x_train_T)\n",
        "x_train_T.duplicated().sum()"
      ],
      "execution_count": 0,
      "outputs": []
    },
    {
      "cell_type": "code",
      "metadata": {
        "id": "S1itQvyDZwh-",
        "colab_type": "code",
        "colab": {}
      },
      "source": [
        "duplicated_features = x_train_T.duplicated()"
      ],
      "execution_count": 0,
      "outputs": []
    },
    {
      "cell_type": "code",
      "metadata": {
        "id": "TQiAm6TvZwkX",
        "colab_type": "code",
        "colab": {}
      },
      "source": [
        "features_to_keep = [not index for index in duplicated_features]"
      ],
      "execution_count": 0,
      "outputs": []
    },
    {
      "cell_type": "code",
      "metadata": {
        "id": "Bcg4iEaWZwmR",
        "colab_type": "code",
        "colab": {}
      },
      "source": [
        "x_train_unique = x_train_T[features_to_keep].T"
      ],
      "execution_count": 0,
      "outputs": []
    },
    {
      "cell_type": "code",
      "metadata": {
        "id": "J_2Z62NYZwon",
        "colab_type": "code",
        "colab": {}
      },
      "source": [
        "x_train_unique.shape"
      ],
      "execution_count": 0,
      "outputs": []
    },
    {
      "cell_type": "code",
      "metadata": {
        "id": "nbWGcMhfZwrK",
        "colab_type": "code",
        "colab": {}
      },
      "source": [
        "###Feature Selection using Mutual Information Gain"
      ],
      "execution_count": 0,
      "outputs": []
    },
    {
      "cell_type": "code",
      "metadata": {
        "id": "FXzI2ZTuZws5",
        "colab_type": "code",
        "colab": {}
      },
      "source": [
        "mi = mutual_info_classif(x_train,y_train)"
      ],
      "execution_count": 0,
      "outputs": []
    },
    {
      "cell_type": "code",
      "metadata": {
        "id": "XqnlfViLZwu0",
        "colab_type": "code",
        "colab": {}
      },
      "source": [
        "len(mi)"
      ],
      "execution_count": 0,
      "outputs": []
    },
    {
      "cell_type": "code",
      "metadata": {
        "id": "DiFKOBFYZwxD",
        "colab_type": "code",
        "colab": {}
      },
      "source": [
        "mi = pd.Series(mi)\n",
        "mi.index = x_train_unique.columns"
      ],
      "execution_count": 0,
      "outputs": []
    },
    {
      "cell_type": "code",
      "metadata": {
        "id": "YLV1_5O6Zwy4",
        "colab_type": "code",
        "colab": {}
      },
      "source": [
        " mi.sort_values(ascending=False,inplace = True)\n",
        "mi.plot.bar(figsize=(16,5))"
      ],
      "execution_count": 0,
      "outputs": []
    },
    {
      "cell_type": "code",
      "metadata": {
        "id": "K5LOiEBTZw1R",
        "colab_type": "code",
        "colab": {}
      },
      "source": [
        "#percentille selection\n",
        "sel = SelectPercentile(mutual_info_classif,percentile=10).fit(x_train_unique,y_train)\n",
        "x  = x_train_unique.columns[sel.get_support()]\n",
        " \n",
        "    "
      ],
      "execution_count": 0,
      "outputs": []
    },
    {
      "cell_type": "code",
      "metadata": {
        "id": "qKroCM2LZw2z",
        "colab_type": "code",
        "colab": {}
      },
      "source": [
        "len(x_train_unique.columns[sel.get_support()])"
      ],
      "execution_count": 0,
      "outputs": []
    },
    {
      "cell_type": "code",
      "metadata": {
        "id": "FoeDtE0KZw45",
        "colab_type": "code",
        "colab": {}
      },
      "source": [
        "x_train_mi = sel.transform(x_train_unique)\n",
        "x_train_mi.shape"
      ],
      "execution_count": 0,
      "outputs": []
    },
    {
      "cell_type": "code",
      "metadata": {
        "id": "QAdp8a9JZw7i",
        "colab_type": "code",
        "colab": {}
      },
      "source": [
        "x_train.shape"
      ],
      "execution_count": 0,
      "outputs": []
    },
    {
      "cell_type": "code",
      "metadata": {
        "id": "gNxQLz9MZw-b",
        "colab_type": "code",
        "colab": {}
      },
      "source": [
        "## KBest Selection \n",
        "select_feature = SelectKBest(mutual_info_classif,k=5).fit(x_train_unique,y_train)"
      ],
      "execution_count": 0,
      "outputs": []
    },
    {
      "cell_type": "code",
      "metadata": {
        "id": "MPkyDNzUa0sZ",
        "colab_type": "code",
        "colab": {}
      },
      "source": [
        "selected_features_df = pd.DataFrame({'Feature':list(x_train_unique.columns),\n",
        "                                     'Scores':select_feature.scores_ })\n",
        "selected_features_df.sort_values(by='Scores',ascending = False) "
      ],
      "execution_count": 0,
      "outputs": []
    },
    {
      "cell_type": "code",
      "metadata": {
        "id": "U9l5eIB_a0us",
        "colab_type": "code",
        "colab": {}
      },
      "source": [
        "selected_features_df.to_csv('feature.csv', index=False, encoding='utf-8')"
      ],
      "execution_count": 0,
      "outputs": []
    },
    {
      "cell_type": "code",
      "metadata": {
        "id": "T3HOJSJQa0wm",
        "colab_type": "code",
        "colab": {}
      },
      "source": [
        ""
      ],
      "execution_count": 0,
      "outputs": []
    },
    {
      "cell_type": "code",
      "metadata": {
        "id": "u1tng_8ia0yp",
        "colab_type": "code",
        "colab": {}
      },
      "source": [
        "# Scaling \n",
        "from sklearn.preprocessing import StandardScaler\n",
        "sc = StandardScaler()\n",
        "x_train = sc.fit_transform(x_train)"
      ],
      "execution_count": 0,
      "outputs": []
    },
    {
      "cell_type": "code",
      "metadata": {
        "id": "MnwCbkgpa003",
        "colab_type": "code",
        "colab": {}
      },
      "source": [
        "from sklearn.metrics import accuracy_score \n",
        "from sklearn.metrics import f1_score \n",
        "from sklearn.neighbors import KNeighborsClassifier\n",
        "from sklearn.naive_bayes import GaussianNB  \n",
        "from sklearn.svm import SVC \n",
        "from sklearn.linear_model import LogisticRegression \n",
        "from sklearn.neural_network import MLPClassifier\n",
        "from xgboost import XGBClassifier\n",
        "from sklearn.ensemble import RandomForestClassifier \n",
        "from sklearn.ensemble import GradientBoostingClassifier\n",
        "from sklearn.metrics import precision_score\n",
        "from sklearn.metrics import recall_score\n",
        "from imblearn.metrics import geometric_mean_score \n",
        "from imblearn.metrics import sensitivity_score \n",
        "from imblearn.metrics import specificity_score \n",
        "from sklearn.preprocessing import label_binarize \n",
        "from sklearn.metrics import roc_auc_score \n",
        "from sklearn.model_selection import cross_val_predict \n",
        "from sklearn.tree import DecisionTreeClassifier\n",
        "from sklearn.neighbors import KNeighborsClassifier\n",
        "from sklearn.naive_bayes import GaussianNB\n",
        "from sklearn.naive_bayes import BernoulliNB\n",
        "from sklearn.model_selection import train_test_split\n"
      ],
      "execution_count": 0,
      "outputs": []
    },
    {
      "cell_type": "code",
      "metadata": {
        "id": "39fsjYpba028",
        "colab_type": "code",
        "colab": {}
      },
      "source": [
        "#####  SVM  ##############\n",
        "from sklearn import svm,metrics\n",
        "\n",
        "classifier = svm.SVC(kernel='poly',gamma=0.001)\n",
        "print('Accuracy :       ', accuracy_score(y_train, y_pred)) \n",
        "print('ROC :            ', roc_auc_score(label_binarize(y_train, classes=[0,1,2]), \n",
        "                                         label_binarize(y_pred, classes=[0,1,2]), average = 'weighted'))\n",
        "\n",
        "print('Precision :      ', precision_score(y_train, y_pred, average='weighted')) \n",
        "print('Recall :         ', recall_score(y_train, y_pred, average='weighted')) \n",
        "print('F-Measure :      ', f1_score(y_train, y_pred, average = 'weighted'))\n",
        "print('Geometric Mean : ', geometric_mean_score(y_train, y_pred, average = 'weighted'))\n",
        "print('Sensitivity :    ', sensitivity_score(y_train, y_pred, average = 'weighted'))\n",
        "print('Specificity :    ', specificity_score(y_train, y_pred, average = 'weighted'))\n",
        "print('Type I Error :   ', (1-geometric_mean_score(y_train, y_pred, average = 'weighted')))\n",
        "print('Type II Error :  ', (1-specificity_score(y_train, y_pred, average = 'weighted'))) \n"
      ],
      "execution_count": 0,
      "outputs": []
    },
    {
      "cell_type": "code",
      "metadata": {
        "id": "CrLVvChNa05D",
        "colab_type": "code",
        "colab": {}
      },
      "source": [
        "#Gaussian NB\n",
        "nb = GaussianNB()\n",
        "y_pred = cross_val_predict(estimator = nb, X = x_train, y = y_train, cv = 10)\n",
        "\n",
        "\n",
        "print('Accuracy :       ', accuracy_score(y_train, y_pred)) \n",
        "print('ROC :            ', roc_auc_score(label_binarize(y_train, classes=[0,1,2]), \n",
        "                                         label_binarize(y_pred, classes=[0,1,2]), average = 'weighted'))\n",
        "\n",
        "print('Precision :      ', precision_score(y_train, y_pred, average='weighted')) \n",
        "print('Recall :         ', recall_score(y_train, y_pred, average='weighted')) \n",
        "print('F-Measure :      ', f1_score(y_train, y_pred, average = 'weighted'))\n",
        "print('Geometric Mean : ', geometric_mean_score(y_train, y_pred, average = 'weighted'))\n",
        "print('Sensitivity :    ', sensitivity_score(y_train, y_pred, average = 'weighted'))\n",
        "print('Specificity :    ', specificity_score(y_train, y_pred, average = 'weighted'))\n",
        "print('Type I Error :   ', (1-geometric_mean_score(y_train, y_pred, average = 'weighted')))\n",
        "print('Type II Error :  ', (1-specificity_score(y_train, y_pred, average = 'weighted'))) "
      ],
      "execution_count": 0,
      "outputs": []
    },
    {
      "cell_type": "code",
      "metadata": {
        "id": "CdFEuMMOa066",
        "colab_type": "code",
        "colab": {}
      },
      "source": [
        "#Bernoulli NB\n",
        " \n",
        "bnb = BernoulliNB(binarize=0.0)\n",
        "\n",
        "y_pred = cross_val_predict(estimator = bnb, X = x_train, y = y_train, cv = 10)\n",
        "\n",
        "print('Accuracy :       ', accuracy_score(y_train, y_pred)) \n",
        "print('ROC :            ', roc_auc_score(label_binarize(y_train, classes=[0,1,2]), \n",
        "                                         label_binarize(y_pred, classes=[0,1,2]), average = 'weighted'))\n",
        "\n",
        "print('Precision :      ', precision_score(y_train, y_pred, average='weighted')) \n",
        "print('Recall :         ', recall_score(y_train, y_pred, average='weighted')) \n",
        "print('F-Measure :      ', f1_score(y_train, y_pred, average = 'weighted'))\n",
        "print('Geometric Mean : ', geometric_mean_score(y_train, y_pred, average = 'weighted'))\n",
        "print('Sensitivity :    ', sensitivity_score(y_train, y_pred, average = 'weighted'))\n",
        "print('Specificity :    ', specificity_score(y_train, y_pred, average = 'weighted'))\n",
        "print('Type I Error :   ', (1-geometric_mean_score(y_train, y_pred, average = 'weighted')))\n",
        "print('Type II Error :  ', (1-specificity_score(y_train, y_pred, average = 'weighted'))) "
      ],
      "execution_count": 0,
      "outputs": []
    },
    {
      "cell_type": "code",
      "metadata": {
        "id": "7wLSBfqCa0-3",
        "colab_type": "code",
        "colab": {}
      },
      "source": [
        "# ---KNN\n",
        "knn = KNeighborsClassifier()\n",
        "y_pred = cross_val_predict(estimator = knn, X = x_train, y = y_train, cv = 10)\n",
        "\n",
        "print('Accuracy :       ', accuracy_score(y_train, y_pred)) \n",
        "print('ROC :            ', roc_auc_score(label_binarize(y_train, classes=[0,1,2]), \n",
        "                                         label_binarize(y_pred, classes=[0,1,2]), average = 'weighted'))\n",
        "\n",
        "print('Precision :      ', precision_score(y_train, y_pred, average='weighted')) \n",
        "print('Recall :         ', recall_score(y_train, y_pred, average='weighted')) \n",
        "print('F-Measure :      ', f1_score(y_train, y_pred, average = 'weighted'))\n",
        "print('Geometric Mean : ', geometric_mean_score(y_train, y_pred, average = 'weighted'))\n",
        "print('Sensitivity :    ', sensitivity_score(y_train, y_pred, average = 'weighted'))\n",
        "print('Specificity :    ', specificity_score(y_train, y_pred, average = 'weighted'))\n",
        "print('Type I Error :   ', (1-geometric_mean_score(y_train, y_pred, average = 'weighted')))\n",
        "print('Type II Error :  ', (1-specificity_score(y_train, y_pred, average = 'weighted'))) \n"
      ],
      "execution_count": 0,
      "outputs": []
    },
    {
      "cell_type": "code",
      "metadata": {
        "id": "y-JkDqyla1Bi",
        "colab_type": "code",
        "colab": {}
      },
      "source": [
        "#--- Decision Tree------\n",
        "from sklearn.tree import DecisionTreeClassifier\n",
        "dt = DecisionTreeClassifier()\n",
        "y_pred = cross_val_predict(estimator = dt, X = x_train, y = y_train, cv = 10)\n",
        "\n",
        "print('Accuracy :       ', accuracy_score(y_train, y_pred)) \n",
        "print('ROC :            ', roc_auc_score(label_binarize(y_train, classes=[0,1,2]), \n",
        "                                         label_binarize(y_pred, classes=[0,1,2]), average = 'weighted'))\n",
        "\n",
        "print('Precision :      ', precision_score(y_train, y_pred, average='weighted')) \n",
        "print('Recall :         ', recall_score(y_train, y_pred, average='weighted')) \n",
        "print('F-Measure :      ', f1_score(y_train, y_pred, average = 'weighted'))\n",
        "print('Geometric Mean : ', geometric_mean_score(y_train, y_pred, average = 'weighted'))\n",
        "print('Sensitivity :    ', sensitivity_score(y_train, y_pred, average = 'weighted'))\n",
        "print('Specificity :    ', specificity_score(y_train, y_pred, average = 'weighted'))\n",
        "print('Type I Error :   ', (1-geometric_mean_score(y_train, y_pred, average = 'weighted')))\n",
        "print('Type II Error :  ', (1-specificity_score(y_train, y_pred, average = 'weighted'))) "
      ],
      "execution_count": 0,
      "outputs": []
    },
    {
      "cell_type": "code",
      "metadata": {
        "id": "yjMUmHlJa1EH",
        "colab_type": "code",
        "colab": {}
      },
      "source": [
        "#------Logistic Regression ------\n",
        "logreg = LogisticRegression(solver='liblinear',max_iter=1000)\n",
        "y_pred = cross_val_predict(estimator = logreg, X = x_train, y = y_train, cv = 10)\n",
        "\n",
        "print('Accuracy :       ', accuracy_score(y_train, y_pred)) \n",
        "print('ROC :            ', roc_auc_score(label_binarize(y_train, classes=[0,1,2]), \n",
        "                                         label_binarize(y_pred, classes=[0,1,2]), average = 'weighted'))\n",
        "\n",
        "print('Precision :      ', precision_score(y_train, y_pred, average='weighted')) \n",
        "print('Recall :         ', recall_score(y_train, y_pred, average='weighted')) \n",
        "print('F-Measure :      ', f1_score(y_train, y_pred, average = 'weighted'))\n",
        "print('Geometric Mean : ', geometric_mean_score(y_train, y_pred, average = 'weighted'))\n",
        "print('Sensitivity :    ', sensitivity_score(y_train, y_pred, average = 'weighted'))\n",
        "print('Specificity :    ', specificity_score(y_train, y_pred, average = 'weighted'))\n",
        "print('Type I Error :   ', (1-geometric_mean_score(y_train, y_pred, average = 'weighted')))\n",
        "print('Type II Error :  ', (1-specificity_score(y_train, y_pred, average = 'weighted'))) \n"
      ],
      "execution_count": 0,
      "outputs": []
    },
    {
      "cell_type": "code",
      "metadata": {
        "id": "1xi24H0za1Hb",
        "colab_type": "code",
        "colab": {}
      },
      "source": [
        "#----Random forest ------\n",
        "rf = RandomForestClassifier(n_estimators = 100, random_state = 0) \n",
        "y_pred = cross_val_predict(estimator = rf, X = x_train, y = y_train, cv = 10)\n",
        "\n",
        "print('Accuracy :       ', accuracy_score(y_train, y_pred)) \n",
        "print('ROC :            ', roc_auc_score(label_binarize(y_train, classes=[0,1,2]), \n",
        "                                         label_binarize(y_pred, classes=[0,1,2]), average = 'weighted'))\n",
        "\n",
        "print('Precision :      ', precision_score(y_train, y_pred, average='weighted')) \n",
        "print('Recall :         ', recall_score(y_train, y_pred, average='weighted')) \n",
        "print('F-Measure :      ', f1_score(y_train, y_pred, average = 'weighted'))\n",
        "print('Geometric Mean : ', geometric_mean_score(y_train, y_pred, average = 'weighted'))\n",
        "print('Sensitivity :    ', sensitivity_score(y_train, y_pred, average = 'weighted'))\n",
        "print('Specificity :    ', specificity_score(y_train, y_pred, average = 'weighted'))\n",
        "print('Type I Error :   ', (1-geometric_mean_score(y_train, y_pred, average = 'weighted')))\n",
        "print('Type II Error :  ', (1-specificity_score(y_train, y_pred, average = 'weighted')))  \n"
      ],
      "execution_count": 0,
      "outputs": []
    },
    {
      "cell_type": "code",
      "metadata": {
        "id": "n71lmk_ebvcQ",
        "colab_type": "code",
        "colab": {}
      },
      "source": [
        "#---- Gradient Boosting --------\n",
        "gb_clf = GradientBoostingClassifier(n_estimators=100,  max_features=2, max_depth=2, random_state=0)\n",
        "y_pred = cross_val_predict(estimator = gb_clf, X = x_train, y = y_train, cv = 10)\n",
        "\n",
        "print('Accuracy :       ', accuracy_score(y_train, y_pred)) \n",
        "print('ROC :            ', roc_auc_score(label_binarize(y_train, classes=[0,1,2]), \n",
        "                                         label_binarize(y_pred, classes=[0,1,2]), average = 'weighted'))\n",
        "\n",
        "print('Precision :      ', precision_score(y_train, y_pred, average='weighted')) \n",
        "print('Recall :         ', recall_score(y_train, y_pred, average='weighted')) \n",
        "print('F-Measure :      ', f1_score(y_train, y_pred, average = 'weighted'))\n",
        "print('Geometric Mean : ', geometric_mean_score(y_train, y_pred, average = 'weighted'))\n",
        "print('Sensitivity :    ', sensitivity_score(y_train, y_pred, average = 'weighted'))\n",
        "print('Specificity :    ', specificity_score(y_train, y_pred, average = 'weighted'))\n",
        "print('Type I Error :   ', (1-geometric_mean_score(y_train, y_pred, average = 'weighted')))\n",
        "print('Type II Error :  ', (1-specificity_score(y_train, y_pred, average = 'weighted'))) \n"
      ],
      "execution_count": 0,
      "outputs": []
    },
    {
      "cell_type": "code",
      "metadata": {
        "id": "2D8b-qtHbvfT",
        "colab_type": "code",
        "colab": {}
      },
      "source": [
        "#--------XGB----------\n",
        "xgb = XGBClassifier()\n",
        "y_pred = cross_val_predict(estimator = xgb, X = x_train, y = y_train, cv = 10)\n",
        "\n",
        "print('Accuracy :       ', accuracy_score(y_train, y_pred)) \n",
        "print('ROC :            ', roc_auc_score(label_binarize(y_train, classes=[0,1,2]), \n",
        "                                         label_binarize(y_pred, classes=[0,1,2]), average = 'weighted'))\n",
        "\n",
        "print('Precision :      ', precision_score(y_train, y_pred, average='weighted')) \n",
        "print('Recall :         ', recall_score(y_train, y_pred, average='weighted')) \n",
        "print('F-Measure :      ', f1_score(y_train, y_pred, average = 'weighted'))\n",
        "print('Geometric Mean : ', geometric_mean_score(y_train, y_pred, average = 'weighted'))\n",
        "print('Sensitivity :    ', sensitivity_score(y_train, y_pred, average = 'weighted'))\n",
        "print('Specificity :    ', specificity_score(y_train, y_pred, average = 'weighted'))\n",
        "print('Type I Error :   ', (1-geometric_mean_score(y_train, y_pred, average = 'weighted')))\n",
        "print('Type II Error :  ', (1-specificity_score(y_train, y_pred, average = 'weighted'))) "
      ],
      "execution_count": 0,
      "outputs": []
    },
    {
      "cell_type": "code",
      "metadata": {
        "id": "1AiavjD8bvhd",
        "colab_type": "code",
        "colab": {}
      },
      "source": [
        "#---------mlp--------\n",
        "mlp = MLPClassifier(solver='adam', alpha=1e-5, random_state=1,)\n",
        "y_pred = cross_val_predict(estimator = mlp, X = x_train, y = y_train, cv = 10)\n",
        "\n",
        "print('Accuracy :       ', accuracy_score(y_train, y_pred)) \n",
        "print('ROC :            ', roc_auc_score(label_binarize(y_train, classes=[0,1,2]), \n",
        "                                         label_binarize(y_pred, classes=[0,1,2]), average = 'weighted'))\n",
        "\n",
        "print('Precision :      ', precision_score(y_train, y_pred, average='weighted')) \n",
        "print('Recall :         ', recall_score(y_train, y_pred, average='weighted')) \n",
        "print('F-Measure :      ', f1_score(y_train, y_pred, average = 'weighted'))\n",
        "print('Geometric Mean : ', geometric_mean_score(y_train, y_pred, average = 'weighted'))\n",
        "print('Sensitivity :    ', sensitivity_score(y_train, y_pred, average = 'weighted'))\n",
        "print('Specificity :    ', specificity_score(y_train, y_pred, average = 'weighted'))\n",
        "print('Type I Error :   ', (1-geometric_mean_score(y_train, y_pred, average = 'weighted')))\n",
        "print('Type II Error :  ', (1-specificity_score(y_train, y_pred, average = 'weighted'))) "
      ],
      "execution_count": 0,
      "outputs": []
    },
    {
      "cell_type": "code",
      "metadata": {
        "id": "IkxUtQQFbvju",
        "colab_type": "code",
        "colab": {}
      },
      "source": [
        "#nearest centroid \n",
        "from sklearn.neighbors import NearestCentroid\n",
        "\n",
        "clf = NearestCentroid(metric= 'manhattan')\n",
        "y_pred = cross_val_predict(estimator = clf, X = x_train, y = y_train, cv = 10)\n",
        "\n",
        "print('Accuracy :       ', accuracy_score(y_train, y_pred)) \n",
        "print('ROC :            ', roc_auc_score(label_binarize(y_train, classes=[0,1,2]), \n",
        "                                         label_binarize(y_pred, classes=[0,1,2]), average = 'weighted'))\n",
        "\n",
        "print('Precision :      ', precision_score(y_train, y_pred, average='weighted')) \n",
        "print('Recall :         ', recall_score(y_train, y_pred, average='weighted')) \n",
        "print('F-Measure :      ', f1_score(y_train, y_pred, average = 'weighted'))\n",
        "print('Geometric Mean : ', geometric_mean_score(y_train, y_pred, average = 'weighted'))\n",
        "print('Sensitivity :    ', sensitivity_score(y_train, y_pred, average = 'weighted'))\n",
        "print('Specificity :    ', specificity_score(y_train, y_pred, average = 'weighted'))\n",
        "print('Type I Error :   ', (1-geometric_mean_score(y_train, y_pred, average = 'weighted')))\n",
        "print('Type II Error :  ', (1-specificity_score(y_train, y_pred, average = 'weighted'))) "
      ],
      "execution_count": 0,
      "outputs": []
    },
    {
      "cell_type": "code",
      "metadata": {
        "id": "x0xHiesQbvlz",
        "colab_type": "code",
        "colab": {}
      },
      "source": [
        "#------------SGD -----------\n",
        "from sklearn.linear_model import SGDClassifier\n",
        "clf = SGDClassifier(loss=\"hinge\", penalty=\"l2\", max_iter = 1000)\n",
        "y_pred = cross_val_predict(estimator = clf, X = x_train, y = y_train, cv = 10)\n",
        "\n",
        "print('Accuracy :       ', accuracy_score(y_train, y_pred)) \n",
        "print('ROC :            ', roc_auc_score(label_binarize(y_train, classes=[0,1,2]), \n",
        "                                         label_binarize(y_pred, classes=[0,1,2]), average = 'weighted'))\n",
        "\n",
        "print('Precision :      ', precision_score(y_train, y_pred, average='weighted')) \n",
        "print('Recall :         ', recall_score(y_train, y_pred, average='weighted')) \n",
        "print('F-Measure :      ', f1_score(y_train, y_pred, average = 'weighted'))\n",
        "print('Geometric Mean : ', geometric_mean_score(y_train, y_pred, average = 'weighted'))\n",
        "print('Sensitivity :    ', sensitivity_score(y_train, y_pred, average = 'weighted'))\n",
        "print('Specificity :    ', specificity_score(y_train, y_pred, average = 'weighted'))\n",
        "print('Type I Error :   ', (1-geometric_mean_score(y_train, y_pred, average = 'weighted')))\n",
        "print('Type II Error :  ', (1-specificity_score(y_train, y_pred, average = 'weighted'))) "
      ],
      "execution_count": 0,
      "outputs": []
    },
    {
      "cell_type": "code",
      "metadata": {
        "id": "H_N0d908bvo1",
        "colab_type": "code",
        "colab": {}
      },
      "source": [
        "#-----------perceptron--------\n",
        "from sklearn.linear_model import Perceptron\n",
        "clf = Perceptron(tol=1e-3, random_state=0)\n",
        "y_pred = cross_val_predict(estimator = clf, X = x_train, y = y_train, cv = 10)\n",
        "\n",
        "print('Accuracy :       ', accuracy_score(y_train, y_pred)) \n",
        "print('ROC :            ', roc_auc_score(label_binarize(y_train, classes=[0,1,2]), \n",
        "                                         label_binarize(y_pred, classes=[0,1,2]), average = 'weighted'))\n",
        "\n",
        "print('Precision :      ', precision_score(y_train, y_pred, average='weighted')) \n",
        "print('Recall :         ', recall_score(y_train, y_pred, average='weighted')) \n",
        "print('F-Measure :      ', f1_score(y_train, y_pred, average = 'weighted'))\n",
        "print('Geometric Mean : ', geometric_mean_score(y_train, y_pred, average = 'weighted'))\n",
        "print('Sensitivity :    ', sensitivity_score(y_train, y_pred, average = 'weighted'))\n",
        "print('Specificity :    ', specificity_score(y_train, y_pred, average = 'weighted'))\n",
        "print('Type I Error :   ', (1-geometric_mean_score(y_train, y_pred, average = 'weighted')))\n",
        "print('Type II Error :  ', (1-specificity_score(y_train, y_pred, average = 'weighted'))) \n"
      ],
      "execution_count": 0,
      "outputs": []
    }
  ]
}